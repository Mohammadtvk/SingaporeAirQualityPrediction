{
  "nbformat": 4,
  "nbformat_minor": 0,
  "metadata": {
    "kernelspec": {
      "display_name": "Python 3",
      "language": "python",
      "name": "python3"
    },
    "language_info": {
      "codemirror_mode": {
        "name": "ipython",
        "version": 3
      },
      "file_extension": ".py",
      "mimetype": "text/x-python",
      "name": "python",
      "nbconvert_exporter": "python",
      "pygments_lexer": "ipython3",
      "version": "3.6.9"
    },
    "colab": {
      "name": "PSI.ipynb",
      "provenance": [],
      "collapsed_sections": []
    },
    "accelerator": "GPU"
  },
  "cells": [
    {
      "cell_type": "code",
      "metadata": {
        "id": "fGmIHsAPRIfF",
        "colab_type": "code",
        "colab": {
          "base_uri": "https://localhost:8080/",
          "height": 71
        },
        "outputId": "726ba6f7-cfe0-4001-a5a8-2c1d8f12ae5f"
      },
      "source": [
        "import numpy as np\n",
        "import pandas as pd\n",
        "from IPython.display import display, clear_output\n",
        "import matplotlib.pyplot as plt\n",
        "import seaborn as sns\n",
        "from sklearn.preprocessing import MinMaxScaler\n",
        "\n",
        "from tensorflow.keras.models import *\n",
        "from tensorflow.keras.layers import *\n",
        "from tensorflow.keras.callbacks import TensorBoard\n",
        "import  tensorflow as tf\n",
        "\n",
        "import warnings\n",
        "warnings.filterwarnings(\"ignore\")"
      ],
      "execution_count": 2,
      "outputs": [
        {
          "output_type": "stream",
          "text": [
            "/usr/local/lib/python3.6/dist-packages/statsmodels/tools/_testing.py:19: FutureWarning: pandas.util.testing is deprecated. Use the functions in the public API at pandas.testing instead.\n",
            "  import pandas.util.testing as tm\n"
          ],
          "name": "stderr"
        }
      ]
    },
    {
      "cell_type": "markdown",
      "metadata": {
        "id": "pBx5QFDPRIfL",
        "colab_type": "text"
      },
      "source": [
        "# Load and preprocess data"
      ]
    },
    {
      "cell_type": "code",
      "metadata": {
        "id": "w2xhLnSgRIfM",
        "colab_type": "code",
        "colab": {
          "base_uri": "https://localhost:8080/",
          "height": 204
        },
        "outputId": "868d7a60-6146-4755-c07b-b1fbc99278f2"
      },
      "source": [
        "data = pd.read_csv('data.csv')\n",
        "data.head()"
      ],
      "execution_count": 3,
      "outputs": [
        {
          "output_type": "execute_result",
          "data": {
            "text/html": [
              "<div>\n",
              "<style scoped>\n",
              "    .dataframe tbody tr th:only-of-type {\n",
              "        vertical-align: middle;\n",
              "    }\n",
              "\n",
              "    .dataframe tbody tr th {\n",
              "        vertical-align: top;\n",
              "    }\n",
              "\n",
              "    .dataframe thead th {\n",
              "        text-align: right;\n",
              "    }\n",
              "</style>\n",
              "<table border=\"1\" class=\"dataframe\">\n",
              "  <thead>\n",
              "    <tr style=\"text-align: right;\">\n",
              "      <th></th>\n",
              "      <th>national</th>\n",
              "      <th>south</th>\n",
              "      <th>north</th>\n",
              "      <th>east</th>\n",
              "      <th>central</th>\n",
              "      <th>west</th>\n",
              "      <th>timestamp</th>\n",
              "    </tr>\n",
              "  </thead>\n",
              "  <tbody>\n",
              "    <tr>\n",
              "      <th>0</th>\n",
              "      <td>47</td>\n",
              "      <td>44</td>\n",
              "      <td>37</td>\n",
              "      <td>47</td>\n",
              "      <td>47</td>\n",
              "      <td>34</td>\n",
              "      <td>2016-02-07T18:00:00+08:00</td>\n",
              "    </tr>\n",
              "    <tr>\n",
              "      <th>1</th>\n",
              "      <td>59</td>\n",
              "      <td>57</td>\n",
              "      <td>54</td>\n",
              "      <td>59</td>\n",
              "      <td>57</td>\n",
              "      <td>56</td>\n",
              "      <td>2016-02-08T23:00:00+08:00</td>\n",
              "    </tr>\n",
              "    <tr>\n",
              "      <th>2</th>\n",
              "      <td>59</td>\n",
              "      <td>57</td>\n",
              "      <td>55</td>\n",
              "      <td>59</td>\n",
              "      <td>57</td>\n",
              "      <td>56</td>\n",
              "      <td>2016-02-09T01:00:00+08:00</td>\n",
              "    </tr>\n",
              "    <tr>\n",
              "      <th>3</th>\n",
              "      <td>59</td>\n",
              "      <td>57</td>\n",
              "      <td>55</td>\n",
              "      <td>59</td>\n",
              "      <td>56</td>\n",
              "      <td>56</td>\n",
              "      <td>2016-02-09T02:00:00+08:00</td>\n",
              "    </tr>\n",
              "    <tr>\n",
              "      <th>4</th>\n",
              "      <td>59</td>\n",
              "      <td>58</td>\n",
              "      <td>55</td>\n",
              "      <td>59</td>\n",
              "      <td>56</td>\n",
              "      <td>56</td>\n",
              "      <td>2016-02-09T03:00:00+08:00</td>\n",
              "    </tr>\n",
              "  </tbody>\n",
              "</table>\n",
              "</div>"
            ],
            "text/plain": [
              "   national  south  north  east  central  west                  timestamp\n",
              "0        47     44     37    47       47    34  2016-02-07T18:00:00+08:00\n",
              "1        59     57     54    59       57    56  2016-02-08T23:00:00+08:00\n",
              "2        59     57     55    59       57    56  2016-02-09T01:00:00+08:00\n",
              "3        59     57     55    59       56    56  2016-02-09T02:00:00+08:00\n",
              "4        59     58     55    59       56    56  2016-02-09T03:00:00+08:00"
            ]
          },
          "metadata": {
            "tags": []
          },
          "execution_count": 3
        }
      ]
    },
    {
      "cell_type": "markdown",
      "metadata": {
        "id": "Z9vDOGsQRIfR",
        "colab_type": "text"
      },
      "source": [
        "here we check for null or missing values"
      ]
    },
    {
      "cell_type": "code",
      "metadata": {
        "id": "9hkiYiNgRIfS",
        "colab_type": "code",
        "colab": {
          "base_uri": "https://localhost:8080/",
          "height": 255
        },
        "outputId": "a4f86b35-ab00-492b-f753-f4046f82da53"
      },
      "source": [
        "data.info()"
      ],
      "execution_count": 4,
      "outputs": [
        {
          "output_type": "stream",
          "text": [
            "<class 'pandas.core.frame.DataFrame'>\n",
            "RangeIndex: 30022 entries, 0 to 30021\n",
            "Data columns (total 7 columns):\n",
            " #   Column     Non-Null Count  Dtype \n",
            "---  ------     --------------  ----- \n",
            " 0   national   30022 non-null  int64 \n",
            " 1   south      30022 non-null  int64 \n",
            " 2   north      30022 non-null  int64 \n",
            " 3   east       30022 non-null  int64 \n",
            " 4   central    30022 non-null  int64 \n",
            " 5   west       30022 non-null  int64 \n",
            " 6   timestamp  30022 non-null  object\n",
            "dtypes: int64(6), object(1)\n",
            "memory usage: 1.6+ MB\n"
          ],
          "name": "stdout"
        }
      ]
    },
    {
      "cell_type": "markdown",
      "metadata": {
        "id": "dtNAPPi6RIfX",
        "colab_type": "text"
      },
      "source": [
        "and to get a sense of data we should have a look at distributions"
      ]
    },
    {
      "cell_type": "code",
      "metadata": {
        "id": "t-qTQSyhRIfX",
        "colab_type": "code",
        "colab": {
          "base_uri": "https://localhost:8080/",
          "height": 297
        },
        "outputId": "42cdf954-846a-44d4-e7bb-7bbfad1903a9"
      },
      "source": [
        "data.describe()"
      ],
      "execution_count": 5,
      "outputs": [
        {
          "output_type": "execute_result",
          "data": {
            "text/html": [
              "<div>\n",
              "<style scoped>\n",
              "    .dataframe tbody tr th:only-of-type {\n",
              "        vertical-align: middle;\n",
              "    }\n",
              "\n",
              "    .dataframe tbody tr th {\n",
              "        vertical-align: top;\n",
              "    }\n",
              "\n",
              "    .dataframe thead th {\n",
              "        text-align: right;\n",
              "    }\n",
              "</style>\n",
              "<table border=\"1\" class=\"dataframe\">\n",
              "  <thead>\n",
              "    <tr style=\"text-align: right;\">\n",
              "      <th></th>\n",
              "      <th>national</th>\n",
              "      <th>south</th>\n",
              "      <th>north</th>\n",
              "      <th>east</th>\n",
              "      <th>central</th>\n",
              "      <th>west</th>\n",
              "    </tr>\n",
              "  </thead>\n",
              "  <tbody>\n",
              "    <tr>\n",
              "      <th>count</th>\n",
              "      <td>30022.000000</td>\n",
              "      <td>30022.000000</td>\n",
              "      <td>30022.000000</td>\n",
              "      <td>30022.000000</td>\n",
              "      <td>30022.000000</td>\n",
              "      <td>30022.000000</td>\n",
              "    </tr>\n",
              "    <tr>\n",
              "      <th>mean</th>\n",
              "      <td>50.502232</td>\n",
              "      <td>54.294351</td>\n",
              "      <td>54.003464</td>\n",
              "      <td>52.491007</td>\n",
              "      <td>52.885884</td>\n",
              "      <td>50.299014</td>\n",
              "    </tr>\n",
              "    <tr>\n",
              "      <th>std</th>\n",
              "      <td>13.107219</td>\n",
              "      <td>10.844489</td>\n",
              "      <td>10.991413</td>\n",
              "      <td>10.365553</td>\n",
              "      <td>11.832203</td>\n",
              "      <td>11.672157</td>\n",
              "    </tr>\n",
              "    <tr>\n",
              "      <th>min</th>\n",
              "      <td>13.000000</td>\n",
              "      <td>20.000000</td>\n",
              "      <td>19.000000</td>\n",
              "      <td>14.000000</td>\n",
              "      <td>13.000000</td>\n",
              "      <td>16.000000</td>\n",
              "    </tr>\n",
              "    <tr>\n",
              "      <th>25%</th>\n",
              "      <td>42.000000</td>\n",
              "      <td>50.000000</td>\n",
              "      <td>49.000000</td>\n",
              "      <td>47.000000</td>\n",
              "      <td>47.000000</td>\n",
              "      <td>43.000000</td>\n",
              "    </tr>\n",
              "    <tr>\n",
              "      <th>50%</th>\n",
              "      <td>53.000000</td>\n",
              "      <td>54.000000</td>\n",
              "      <td>55.000000</td>\n",
              "      <td>54.000000</td>\n",
              "      <td>54.000000</td>\n",
              "      <td>52.000000</td>\n",
              "    </tr>\n",
              "    <tr>\n",
              "      <th>75%</th>\n",
              "      <td>58.000000</td>\n",
              "      <td>59.000000</td>\n",
              "      <td>59.000000</td>\n",
              "      <td>58.000000</td>\n",
              "      <td>59.000000</td>\n",
              "      <td>57.000000</td>\n",
              "    </tr>\n",
              "    <tr>\n",
              "      <th>max</th>\n",
              "      <td>143.000000</td>\n",
              "      <td>154.000000</td>\n",
              "      <td>145.000000</td>\n",
              "      <td>131.000000</td>\n",
              "      <td>154.000000</td>\n",
              "      <td>143.000000</td>\n",
              "    </tr>\n",
              "  </tbody>\n",
              "</table>\n",
              "</div>"
            ],
            "text/plain": [
              "           national         south  ...       central          west\n",
              "count  30022.000000  30022.000000  ...  30022.000000  30022.000000\n",
              "mean      50.502232     54.294351  ...     52.885884     50.299014\n",
              "std       13.107219     10.844489  ...     11.832203     11.672157\n",
              "min       13.000000     20.000000  ...     13.000000     16.000000\n",
              "25%       42.000000     50.000000  ...     47.000000     43.000000\n",
              "50%       53.000000     54.000000  ...     54.000000     52.000000\n",
              "75%       58.000000     59.000000  ...     59.000000     57.000000\n",
              "max      143.000000    154.000000  ...    154.000000    143.000000\n",
              "\n",
              "[8 rows x 6 columns]"
            ]
          },
          "metadata": {
            "tags": []
          },
          "execution_count": 5
        }
      ]
    },
    {
      "cell_type": "code",
      "metadata": {
        "id": "368bpI9QRIfc",
        "colab_type": "code",
        "colab": {
          "base_uri": "https://localhost:8080/",
          "height": 606
        },
        "outputId": "6618a5b9-df1b-488a-b4e7-e8ba297aa52e"
      },
      "source": [
        "fig, axarr = plt.subplots(2, 3, figsize=(15, 10))\n",
        "for i in range(2):\n",
        "    for j in range(3):\n",
        "        sns.distplot(data[data.columns[i*3+j]], ax=axarr[i, j])"
      ],
      "execution_count": 6,
      "outputs": [
        {
          "output_type": "display_data",
          "data": {
            "image/png": "[encoded data removed]",
            "text/plain": [
              "<Figure size 1080x720 with 6 Axes>"
            ]
          },
          "metadata": {
            "tags": [],
            "needs_background": "light"
          }
        }
      ]
    },
    {
      "cell_type": "markdown",
      "metadata": {
        "id": "jPdM0fRHRIfg",
        "colab_type": "text"
      },
      "source": [
        "drop timestamp column(order of samples will not change) and split data to train and test"
      ]
    },
    {
      "cell_type": "code",
      "metadata": {
        "id": "OV4-rzZLRIfh",
        "colab_type": "code",
        "colab": {}
      },
      "source": [
        "data = data.drop('timestamp', axis=1)\n",
        "train = data[:int(0.7*data.shape[0])]\n",
        "test = np.array(data[int(0.7*data.shape[0]):].values)"
      ],
      "execution_count": 0,
      "outputs": []
    },
    {
      "cell_type": "markdown",
      "metadata": {
        "id": "uat9aIOlRIfl",
        "colab_type": "text"
      },
      "source": [
        "scale features between 0 and 1 "
      ]
    },
    {
      "cell_type": "code",
      "metadata": {
        "id": "Gs_gpO7mRIfo",
        "colab_type": "code",
        "colab": {}
      },
      "source": [
        "scaler = MinMaxScaler(feature_range = (0, 1))\n",
        "train_scaled = scaler.fit_transform(train)"
      ],
      "execution_count": 0,
      "outputs": []
    },
    {
      "cell_type": "markdown",
      "metadata": {
        "id": "zyCxD-vHRIfs",
        "colab_type": "text"
      },
      "source": [
        "There are so many ways we could use this data to get some insights. here we take _lag_size_ past days to predict _pred_steps_ days ahead. so we generate a dataset of such samples. we can train a model to predict each feature or a model predict all features at once. we go with the former one and take the first feature just to test"
      ]
    },
    {
      "cell_type": "code",
      "metadata": {
        "id": "XZ6_EzxbRIft",
        "colab_type": "code",
        "colab": {}
      },
      "source": [
        "lag_size = 14\n",
        "pred_steps = 3\n",
        "\n",
        "x_train = []\n",
        "y_train = []\n",
        "\n",
        "\n",
        "for i in range(lag_size, train_scaled.shape[0]-pred_steps):\n",
        "    x_train.append(train_scaled[i-lag_size: i, 0])\n",
        "    y_train.append(train_scaled[i: i+pred_steps, 0])\n",
        "    \n",
        "x_train, y_train = np.expand_dims(x_train, 2), np.expand_dims(y_train, 2)"
      ],
      "execution_count": 0,
      "outputs": []
    },
    {
      "cell_type": "code",
      "metadata": {
        "id": "C2TR9UeGRIfw",
        "colab_type": "code",
        "colab": {
          "base_uri": "https://localhost:8080/",
          "height": 51
        },
        "outputId": "8ebd4a6e-96c0-4b0b-a37b-409b7903f5be"
      },
      "source": [
        "print('x_train.shape =', x_train.shape)\n",
        "print('y_train.shape =', y_train.shape)"
      ],
      "execution_count": 14,
      "outputs": [
        {
          "output_type": "stream",
          "text": [
            "x_train.shape = (20998, 14, 1)\n",
            "y_train.shape = (20998, 3, 1)\n"
          ],
          "name": "stdout"
        }
      ]
    },
    {
      "cell_type": "code",
      "metadata": {
        "id": "RaOd0WNmRIf0",
        "colab_type": "code",
        "colab": {}
      },
      "source": [
        "# Using the same scaler to transform test samples. \n",
        "test_scaled = scaler.transform(test)"
      ],
      "execution_count": 0,
      "outputs": []
    },
    {
      "cell_type": "code",
      "metadata": {
        "id": "ORNVi62sRIf4",
        "colab_type": "code",
        "colab": {}
      },
      "source": [
        "x_test = []\n",
        "y_test = []\n",
        "\n",
        "for i in range(lag_size, test_scaled.shape[0]-pred_steps):\n",
        "    x_test.append(test_scaled[i-lag_size: i, 0])\n",
        "    y_test.append(test_scaled[i: i+pred_steps, 0])\n",
        "    \n",
        "x_test, y_test = np.expand_dims(x_test, 2), np.expand_dims(y_test, 2)"
      ],
      "execution_count": 0,
      "outputs": []
    },
    {
      "cell_type": "code",
      "metadata": {
        "id": "mrsNfTAORIf8",
        "colab_type": "code",
        "colab": {
          "base_uri": "https://localhost:8080/",
          "height": 51
        },
        "outputId": "2223892e-1a6a-47d7-a857-693d10020e8d"
      },
      "source": [
        "print('x_test.shape =', x_test.shape)\n",
        "print('y_test.shape =', y_test.shape)"
      ],
      "execution_count": 17,
      "outputs": [
        {
          "output_type": "stream",
          "text": [
            "x_test.shape = (8990, 14, 1)\n",
            "y_test.shape = (8990, 3, 1)\n"
          ],
          "name": "stdout"
        }
      ]
    },
    {
      "cell_type": "markdown",
      "metadata": {
        "id": "lAhQAJ0PRIf_",
        "colab_type": "text"
      },
      "source": [
        "# Define model"
      ]
    },
    {
      "cell_type": "code",
      "metadata": {
        "id": "8_SIqoY6RIgA",
        "colab_type": "code",
        "colab": {}
      },
      "source": [
        "latent_dim = 256\n",
        "tf.keras.backend.clear_session()\n",
        "# Define an input sequence and process it.\n",
        "encoder_inputs = Input(shape=(lag_size, x_train.shape[-1]), name='enc_inp')\n",
        "encoder = LSTM(latent_dim, return_state=True, name='enc_lstm')\n",
        "encoder_outputs, state_h, state_c = encoder(encoder_inputs)\n",
        "# We discard `encoder_outputs` and only keep the states.\n",
        "encoder_states = [state_h, state_c]\n",
        "\n",
        "# Set up the decoder, using `encoder_states` as initial state.\n",
        "decoder_inputs = Input(shape=((None, 1)), name='dec_inp')\n",
        "# We set up our decoder to return full output sequences,\n",
        "# and to return internal states as well. We don't use the \n",
        "# return states in the training model, but we will use them in inference.\n",
        "decoder_lstm = LSTM(latent_dim, return_sequences=True, return_state=True, name='dec_lstm')\n",
        "decoder_outputs, _, _ = decoder_lstm(decoder_inputs,\n",
        "                                     initial_state=encoder_states)\n",
        "# decoder_dense = TimeDistributed(Dense(1, activation='sigmoid'), input_shape=(y_train.shape[1], y_train.shape[2]))\n",
        "decoder_dense = Dense(1, activation='sigmoid')\n",
        "decoder_outputs = decoder_dense(decoder_outputs)\n",
        "# Define the model that will turn\n",
        "# `encoder_input_data` & `decoder_input_data` into `decoder_target_data`\n",
        "model = Model([encoder_inputs, decoder_inputs], decoder_outputs)"
      ],
      "execution_count": 0,
      "outputs": []
    },
    {
      "cell_type": "code",
      "metadata": {
        "id": "TPkmCSDfRIgF",
        "colab_type": "code",
        "colab": {}
      },
      "source": [
        "model.compile(optimizer='rmsprop', loss='mse')"
      ],
      "execution_count": 0,
      "outputs": []
    },
    {
      "cell_type": "code",
      "metadata": {
        "id": "OphuuaHRRIgK",
        "colab_type": "code",
        "colab": {
          "base_uri": "https://localhost:8080/",
          "height": 357
        },
        "outputId": "1dcaefdf-0d30-41fd-f25b-6e102cdbfc0e"
      },
      "source": [
        "model.build(input_shape=x_train.shape)\n",
        "model.summary()"
      ],
      "execution_count": 212,
      "outputs": [
        {
          "output_type": "stream",
          "text": [
            "Model: \"model\"\n",
            "__________________________________________________________________________________________________\n",
            "Layer (type)                    Output Shape         Param #     Connected to                     \n",
            "==================================================================================================\n",
            "enc_inp (InputLayer)            [(None, 14, 1)]      0                                            \n",
            "__________________________________________________________________________________________________\n",
            "dec_inp (InputLayer)            [(None, None, 1)]    0                                            \n",
            "__________________________________________________________________________________________________\n",
            "enc_lstm (LSTM)                 [(None, 256), (None, 264192      enc_inp[0][0]                    \n",
            "__________________________________________________________________________________________________\n",
            "dec_lstm (LSTM)                 [(None, None, 256),  264192      dec_inp[0][0]                    \n",
            "                                                                 enc_lstm[0][1]                   \n",
            "                                                                 enc_lstm[0][2]                   \n",
            "__________________________________________________________________________________________________\n",
            "dense (Dense)                   (None, None, 1)      257         dec_lstm[0][0]                   \n",
            "==================================================================================================\n",
            "Total params: 528,641\n",
            "Trainable params: 528,641\n",
            "Non-trainable params: 0\n",
            "__________________________________________________________________________________________________\n"
          ],
          "name": "stdout"
        }
      ]
    },
    {
      "cell_type": "markdown",
      "metadata": {
        "id": "-kqbQZpQRIgN",
        "colab_type": "text"
      },
      "source": [
        "# Train Model"
      ]
    },
    {
      "cell_type": "code",
      "metadata": {
        "scrolled": true,
        "id": "b6KMwT2iRIgO",
        "colab_type": "code",
        "colab": {
          "base_uri": "https://localhost:8080/",
          "height": 1000
        },
        "outputId": "be2dc9a4-ce59-4651-e12f-550d2a3a5a96"
      },
      "source": [
        "batch_size = 2**11\n",
        "epochs = 500\n",
        "\n",
        "# shift output by 1 and add the last input to output\n",
        "y_train_shifted = np.zeros(y_train.shape)\n",
        "y_train_shifted[:, 1:, :] = y_train[:, :-1, :]\n",
        "y_train_shifted[:, 0, :] = x_train[:, -1, 0].reshape((-1, 1))   \n",
        "\n",
        "model.fit([x_train, y_train_shifted], y_train,\n",
        "                    batch_size=batch_size,\n",
        "                    epochs=epochs,\n",
        "                    validation_split=0.2\n",
        "                    )\n"
      ],
      "execution_count": 213,
      "outputs": [
        {
          "output_type": "stream",
          "text": [
            "Epoch 1/500\n",
            "9/9 [==============================] - 1s 140ms/step - loss: 0.0257 - val_loss: 0.0085\n",
            "Epoch 2/500\n",
            "9/9 [==============================] - 0s 51ms/step - loss: 0.0134 - val_loss: 0.0086\n",
            "Epoch 3/500\n",
            "9/9 [==============================] - 0s 50ms/step - loss: 0.0119 - val_loss: 0.0073\n",
            "Epoch 4/500\n",
            "9/9 [==============================] - 0s 47ms/step - loss: 0.0090 - val_loss: 0.0063\n",
            "Epoch 5/500\n",
            "9/9 [==============================] - 0s 48ms/step - loss: 0.0051 - val_loss: 0.0172\n",
            "Epoch 6/500\n",
            "9/9 [==============================] - 0s 48ms/step - loss: 0.0073 - val_loss: 0.0139\n",
            "Epoch 7/500\n",
            "9/9 [==============================] - 0s 48ms/step - loss: 0.0062 - val_loss: 0.0024\n",
            "Epoch 8/500\n",
            "9/9 [==============================] - 0s 47ms/step - loss: 0.0048 - val_loss: 0.0021\n",
            "Epoch 9/500\n",
            "9/9 [==============================] - 0s 49ms/step - loss: 0.0046 - val_loss: 0.0042\n",
            "Epoch 10/500\n",
            "9/9 [==============================] - 0s 48ms/step - loss: 0.0047 - val_loss: 0.0039\n",
            "Epoch 11/500\n",
            "9/9 [==============================] - 0s 47ms/step - loss: 0.0044 - val_loss: 0.0034\n",
            "Epoch 12/500\n",
            "9/9 [==============================] - 0s 49ms/step - loss: 0.0041 - val_loss: 0.0037\n",
            "Epoch 13/500\n",
            "9/9 [==============================] - 0s 49ms/step - loss: 0.0042 - val_loss: 0.0030\n",
            "Epoch 14/500\n",
            "9/9 [==============================] - 0s 47ms/step - loss: 0.0040 - val_loss: 0.0043\n",
            "Epoch 15/500\n",
            "9/9 [==============================] - 0s 46ms/step - loss: 0.0038 - val_loss: 0.0027\n",
            "Epoch 16/500\n",
            "9/9 [==============================] - 0s 47ms/step - loss: 0.0036 - val_loss: 0.0042\n",
            "Epoch 17/500\n",
            "9/9 [==============================] - 0s 48ms/step - loss: 0.0037 - val_loss: 0.0029\n",
            "Epoch 18/500\n",
            "9/9 [==============================] - 0s 48ms/step - loss: 0.0034 - val_loss: 0.0030\n",
            "Epoch 19/500\n",
            "9/9 [==============================] - 0s 47ms/step - loss: 0.0033 - val_loss: 0.0025\n",
            "Epoch 20/500\n",
            "9/9 [==============================] - 0s 48ms/step - loss: 0.0033 - val_loss: 0.0020\n",
            "Epoch 21/500\n",
            "9/9 [==============================] - 0s 48ms/step - loss: 0.0032 - val_loss: 0.0023\n",
            "Epoch 22/500\n",
            "9/9 [==============================] - 0s 48ms/step - loss: 0.0030 - val_loss: 0.0026\n",
            "Epoch 23/500\n",
            "9/9 [==============================] - 0s 50ms/step - loss: 0.0031 - val_loss: 0.0022\n",
            "Epoch 24/500\n",
            "9/9 [==============================] - 0s 47ms/step - loss: 0.0027 - val_loss: 0.0026\n",
            "Epoch 25/500\n",
            "9/9 [==============================] - 0s 47ms/step - loss: 0.0028 - val_loss: 0.0024\n",
            "Epoch 26/500\n",
            "9/9 [==============================] - 0s 47ms/step - loss: 0.0025 - val_loss: 0.0018\n",
            "Epoch 27/500\n",
            "9/9 [==============================] - 0s 46ms/step - loss: 0.0028 - val_loss: 0.0022\n",
            "Epoch 28/500\n",
            "9/9 [==============================] - 0s 47ms/step - loss: 0.0023 - val_loss: 0.0021\n",
            "Epoch 29/500\n",
            "9/9 [==============================] - 0s 48ms/step - loss: 0.0025 - val_loss: 0.0018\n",
            "Epoch 30/500\n",
            "9/9 [==============================] - 0s 47ms/step - loss: 0.0022 - val_loss: 0.0025\n",
            "Epoch 31/500\n",
            "9/9 [==============================] - 0s 49ms/step - loss: 0.0022 - val_loss: 0.0020\n",
            "Epoch 32/500\n",
            "9/9 [==============================] - 0s 48ms/step - loss: 0.0022 - val_loss: 0.0023\n",
            "Epoch 33/500\n",
            "9/9 [==============================] - 0s 49ms/step - loss: 0.0021 - val_loss: 0.0015\n",
            "Epoch 34/500\n",
            "9/9 [==============================] - 0s 48ms/step - loss: 0.0019 - val_loss: 0.0021\n",
            "Epoch 35/500\n",
            "9/9 [==============================] - 0s 48ms/step - loss: 0.0019 - val_loss: 0.0016\n",
            "Epoch 36/500\n",
            "9/9 [==============================] - 0s 48ms/step - loss: 0.0019 - val_loss: 0.0011\n",
            "Epoch 37/500\n",
            "9/9 [==============================] - 0s 49ms/step - loss: 0.0017 - val_loss: 0.0015\n",
            "Epoch 38/500\n",
            "9/9 [==============================] - 0s 47ms/step - loss: 0.0017 - val_loss: 0.0019\n",
            "Epoch 39/500\n",
            "9/9 [==============================] - 0s 49ms/step - loss: 0.0016 - val_loss: 0.0020\n",
            "Epoch 40/500\n",
            "9/9 [==============================] - 0s 48ms/step - loss: 0.0016 - val_loss: 0.0014\n",
            "Epoch 41/500\n",
            "9/9 [==============================] - 0s 48ms/step - loss: 0.0016 - val_loss: 0.0013\n",
            "Epoch 42/500\n",
            "9/9 [==============================] - 0s 47ms/step - loss: 0.0014 - val_loss: 0.0013\n",
            "Epoch 43/500\n",
            "9/9 [==============================] - 0s 47ms/step - loss: 0.0015 - val_loss: 0.0011\n",
            "Epoch 44/500\n",
            "9/9 [==============================] - 0s 49ms/step - loss: 0.0014 - val_loss: 0.0013\n",
            "Epoch 45/500\n",
            "9/9 [==============================] - 0s 48ms/step - loss: 0.0013 - val_loss: 8.6310e-04\n",
            "Epoch 46/500\n",
            "9/9 [==============================] - 0s 48ms/step - loss: 0.0013 - val_loss: 0.0011\n",
            "Epoch 47/500\n",
            "9/9 [==============================] - 0s 47ms/step - loss: 0.0012 - val_loss: 7.9445e-04\n",
            "Epoch 48/500\n",
            "9/9 [==============================] - 0s 48ms/step - loss: 0.0011 - val_loss: 0.0011\n",
            "Epoch 49/500\n",
            "9/9 [==============================] - 0s 49ms/step - loss: 0.0011 - val_loss: 9.6544e-04\n",
            "Epoch 50/500\n",
            "9/9 [==============================] - 0s 48ms/step - loss: 0.0011 - val_loss: 0.0011\n",
            "Epoch 51/500\n",
            "9/9 [==============================] - 0s 47ms/step - loss: 0.0011 - val_loss: 7.3764e-04\n",
            "Epoch 52/500\n",
            "9/9 [==============================] - 0s 48ms/step - loss: 0.0011 - val_loss: 5.8290e-04\n",
            "Epoch 53/500\n",
            "9/9 [==============================] - 0s 47ms/step - loss: 9.9400e-04 - val_loss: 0.0010\n",
            "Epoch 54/500\n",
            "9/9 [==============================] - 0s 51ms/step - loss: 9.7140e-04 - val_loss: 9.4135e-04\n",
            "Epoch 55/500\n",
            "9/9 [==============================] - 0s 47ms/step - loss: 9.7586e-04 - val_loss: 7.1769e-04\n",
            "Epoch 56/500\n",
            "9/9 [==============================] - 0s 50ms/step - loss: 9.2391e-04 - val_loss: 6.0745e-04\n",
            "Epoch 57/500\n",
            "9/9 [==============================] - 0s 48ms/step - loss: 8.7245e-04 - val_loss: 7.2695e-04\n",
            "Epoch 58/500\n",
            "9/9 [==============================] - 1s 95ms/step - loss: 8.1964e-04 - val_loss: 6.9848e-04\n",
            "Epoch 59/500\n",
            "9/9 [==============================] - 0s 48ms/step - loss: 8.7900e-04 - val_loss: 6.4989e-04\n",
            "Epoch 60/500\n",
            "9/9 [==============================] - 0s 49ms/step - loss: 8.2064e-04 - val_loss: 9.4219e-04\n",
            "Epoch 61/500\n",
            "9/9 [==============================] - 0s 49ms/step - loss: 7.5007e-04 - val_loss: 5.9506e-04\n",
            "Epoch 62/500\n",
            "9/9 [==============================] - 0s 49ms/step - loss: 8.4161e-04 - val_loss: 7.0824e-04\n",
            "Epoch 63/500\n",
            "9/9 [==============================] - 0s 47ms/step - loss: 6.8405e-04 - val_loss: 9.5580e-04\n",
            "Epoch 64/500\n",
            "9/9 [==============================] - 0s 48ms/step - loss: 8.9347e-04 - val_loss: 5.2469e-04\n",
            "Epoch 65/500\n",
            "9/9 [==============================] - 0s 49ms/step - loss: 6.3875e-04 - val_loss: 8.2339e-04\n",
            "Epoch 66/500\n",
            "9/9 [==============================] - 0s 48ms/step - loss: 7.7754e-04 - val_loss: 3.2664e-04\n",
            "Epoch 67/500\n",
            "9/9 [==============================] - 0s 48ms/step - loss: 6.6873e-04 - val_loss: 5.1400e-04\n",
            "Epoch 68/500\n",
            "9/9 [==============================] - 0s 49ms/step - loss: 6.9701e-04 - val_loss: 4.8728e-04\n",
            "Epoch 69/500\n",
            "9/9 [==============================] - 0s 48ms/step - loss: 6.3498e-04 - val_loss: 7.0802e-04\n",
            "Epoch 70/500\n",
            "9/9 [==============================] - 0s 49ms/step - loss: 6.8239e-04 - val_loss: 4.6595e-04\n",
            "Epoch 71/500\n",
            "9/9 [==============================] - 0s 48ms/step - loss: 6.7502e-04 - val_loss: 5.7163e-04\n",
            "Epoch 72/500\n",
            "9/9 [==============================] - 0s 50ms/step - loss: 5.9113e-04 - val_loss: 4.7973e-04\n",
            "Epoch 73/500\n",
            "9/9 [==============================] - 0s 47ms/step - loss: 6.8902e-04 - val_loss: 4.7267e-04\n",
            "Epoch 74/500\n",
            "9/9 [==============================] - 0s 49ms/step - loss: 5.3301e-04 - val_loss: 7.3563e-04\n",
            "Epoch 75/500\n",
            "9/9 [==============================] - 0s 48ms/step - loss: 6.3058e-04 - val_loss: 4.5979e-04\n",
            "Epoch 76/500\n",
            "9/9 [==============================] - 0s 49ms/step - loss: 6.2360e-04 - val_loss: 6.8883e-04\n",
            "Epoch 77/500\n",
            "9/9 [==============================] - 0s 48ms/step - loss: 5.2562e-04 - val_loss: 5.2876e-04\n",
            "Epoch 78/500\n",
            "9/9 [==============================] - 0s 48ms/step - loss: 6.1263e-04 - val_loss: 4.0340e-04\n",
            "Epoch 79/500\n",
            "9/9 [==============================] - 0s 49ms/step - loss: 5.4286e-04 - val_loss: 5.6629e-04\n",
            "Epoch 80/500\n",
            "9/9 [==============================] - 0s 48ms/step - loss: 5.4125e-04 - val_loss: 3.9187e-04\n",
            "Epoch 81/500\n",
            "9/9 [==============================] - 0s 49ms/step - loss: 5.5993e-04 - val_loss: 5.2555e-04\n",
            "Epoch 82/500\n",
            "9/9 [==============================] - 0s 48ms/step - loss: 5.3438e-04 - val_loss: 4.0156e-04\n",
            "Epoch 83/500\n",
            "9/9 [==============================] - 0s 49ms/step - loss: 5.1085e-04 - val_loss: 4.9835e-04\n",
            "Epoch 84/500\n",
            "9/9 [==============================] - 0s 51ms/step - loss: 5.5699e-04 - val_loss: 5.6710e-04\n",
            "Epoch 85/500\n",
            "9/9 [==============================] - 0s 49ms/step - loss: 5.0352e-04 - val_loss: 4.1207e-04\n",
            "Epoch 86/500\n",
            "9/9 [==============================] - 0s 48ms/step - loss: 5.3074e-04 - val_loss: 5.4328e-04\n",
            "Epoch 87/500\n",
            "9/9 [==============================] - 0s 47ms/step - loss: 4.7991e-04 - val_loss: 3.6061e-04\n",
            "Epoch 88/500\n",
            "9/9 [==============================] - 0s 47ms/step - loss: 5.5212e-04 - val_loss: 5.2126e-04\n",
            "Epoch 89/500\n",
            "9/9 [==============================] - 0s 47ms/step - loss: 4.2980e-04 - val_loss: 4.1467e-04\n",
            "Epoch 90/500\n",
            "9/9 [==============================] - 0s 49ms/step - loss: 5.2279e-04 - val_loss: 5.8508e-04\n",
            "Epoch 91/500\n",
            "9/9 [==============================] - 0s 48ms/step - loss: 4.4760e-04 - val_loss: 4.1907e-04\n",
            "Epoch 92/500\n",
            "9/9 [==============================] - 0s 48ms/step - loss: 5.4323e-04 - val_loss: 3.5427e-04\n",
            "Epoch 93/500\n",
            "9/9 [==============================] - 0s 50ms/step - loss: 4.1670e-04 - val_loss: 3.5878e-04\n",
            "Epoch 94/500\n",
            "9/9 [==============================] - 0s 48ms/step - loss: 5.1699e-04 - val_loss: 4.1324e-04\n",
            "Epoch 95/500\n",
            "9/9 [==============================] - 0s 48ms/step - loss: 4.3917e-04 - val_loss: 3.3457e-04\n",
            "Epoch 96/500\n",
            "9/9 [==============================] - 0s 49ms/step - loss: 4.6514e-04 - val_loss: 4.6676e-04\n",
            "Epoch 97/500\n",
            "9/9 [==============================] - 0s 49ms/step - loss: 4.4307e-04 - val_loss: 3.9334e-04\n",
            "Epoch 98/500\n",
            "9/9 [==============================] - 0s 50ms/step - loss: 4.4851e-04 - val_loss: 4.9702e-04\n",
            "Epoch 99/500\n",
            "9/9 [==============================] - 0s 49ms/step - loss: 4.3802e-04 - val_loss: 3.5921e-04\n",
            "Epoch 100/500\n",
            "9/9 [==============================] - 0s 49ms/step - loss: 4.6980e-04 - val_loss: 4.6736e-04\n",
            "Epoch 101/500\n",
            "9/9 [==============================] - 0s 49ms/step - loss: 3.7746e-04 - val_loss: 3.2022e-04\n",
            "Epoch 102/500\n",
            "9/9 [==============================] - 0s 50ms/step - loss: 5.1633e-04 - val_loss: 2.8844e-04\n",
            "Epoch 103/500\n",
            "9/9 [==============================] - 0s 48ms/step - loss: 3.6768e-04 - val_loss: 4.8886e-04\n",
            "Epoch 104/500\n",
            "9/9 [==============================] - 0s 48ms/step - loss: 4.5999e-04 - val_loss: 3.2479e-04\n",
            "Epoch 105/500\n",
            "9/9 [==============================] - 0s 48ms/step - loss: 4.2864e-04 - val_loss: 3.3937e-04\n",
            "Epoch 106/500\n",
            "9/9 [==============================] - 0s 49ms/step - loss: 3.9472e-04 - val_loss: 3.2341e-04\n",
            "Epoch 107/500\n",
            "9/9 [==============================] - 0s 49ms/step - loss: 4.1701e-04 - val_loss: 4.6668e-04\n",
            "Epoch 108/500\n",
            "9/9 [==============================] - 0s 47ms/step - loss: 4.2649e-04 - val_loss: 2.6589e-04\n",
            "Epoch 109/500\n",
            "9/9 [==============================] - 0s 49ms/step - loss: 4.3866e-04 - val_loss: 3.6332e-04\n",
            "Epoch 110/500\n",
            "9/9 [==============================] - 0s 49ms/step - loss: 3.6287e-04 - val_loss: 3.7873e-04\n",
            "Epoch 111/500\n",
            "9/9 [==============================] - 0s 49ms/step - loss: 4.4197e-04 - val_loss: 2.5818e-04\n",
            "Epoch 112/500\n",
            "9/9 [==============================] - 0s 48ms/step - loss: 3.4964e-04 - val_loss: 5.5108e-04\n",
            "Epoch 113/500\n",
            "9/9 [==============================] - 0s 48ms/step - loss: 4.1549e-04 - val_loss: 3.8115e-04\n",
            "Epoch 114/500\n",
            "9/9 [==============================] - 0s 50ms/step - loss: 3.8840e-04 - val_loss: 3.0637e-04\n",
            "Epoch 115/500\n",
            "9/9 [==============================] - 0s 49ms/step - loss: 4.2584e-04 - val_loss: 4.0344e-04\n",
            "Epoch 116/500\n",
            "9/9 [==============================] - 0s 49ms/step - loss: 3.4676e-04 - val_loss: 3.3141e-04\n",
            "Epoch 117/500\n",
            "9/9 [==============================] - 0s 49ms/step - loss: 4.1646e-04 - val_loss: 3.4285e-04\n",
            "Epoch 118/500\n",
            "9/9 [==============================] - 0s 47ms/step - loss: 3.8707e-04 - val_loss: 3.3258e-04\n",
            "Epoch 119/500\n",
            "9/9 [==============================] - 0s 48ms/step - loss: 3.6289e-04 - val_loss: 3.4330e-04\n",
            "Epoch 120/500\n",
            "9/9 [==============================] - 0s 49ms/step - loss: 4.0887e-04 - val_loss: 3.5047e-04\n",
            "Epoch 121/500\n",
            "9/9 [==============================] - 0s 48ms/step - loss: 3.3786e-04 - val_loss: 4.2993e-04\n",
            "Epoch 122/500\n",
            "9/9 [==============================] - 0s 49ms/step - loss: 3.8370e-04 - val_loss: 3.1804e-04\n",
            "Epoch 123/500\n",
            "9/9 [==============================] - 0s 49ms/step - loss: 3.8302e-04 - val_loss: 3.3909e-04\n",
            "Epoch 124/500\n",
            "9/9 [==============================] - 0s 49ms/step - loss: 3.3701e-04 - val_loss: 3.6356e-04\n",
            "Epoch 125/500\n",
            "9/9 [==============================] - 0s 48ms/step - loss: 4.0186e-04 - val_loss: 2.9539e-04\n",
            "Epoch 126/500\n",
            "9/9 [==============================] - 0s 49ms/step - loss: 3.3501e-04 - val_loss: 3.1966e-04\n",
            "Epoch 127/500\n",
            "9/9 [==============================] - 0s 50ms/step - loss: 3.8011e-04 - val_loss: 3.4174e-04\n",
            "Epoch 128/500\n",
            "9/9 [==============================] - 0s 48ms/step - loss: 3.2718e-04 - val_loss: 3.4668e-04\n",
            "Epoch 129/500\n",
            "9/9 [==============================] - 0s 49ms/step - loss: 3.9446e-04 - val_loss: 3.1702e-04\n",
            "Epoch 130/500\n",
            "9/9 [==============================] - 0s 48ms/step - loss: 3.0107e-04 - val_loss: 3.0376e-04\n",
            "Epoch 131/500\n",
            "9/9 [==============================] - 0s 50ms/step - loss: 3.9359e-04 - val_loss: 2.6464e-04\n",
            "Epoch 132/500\n",
            "9/9 [==============================] - 0s 49ms/step - loss: 3.1835e-04 - val_loss: 4.2539e-04\n",
            "Epoch 133/500\n",
            "9/9 [==============================] - 0s 49ms/step - loss: 3.7338e-04 - val_loss: 2.3307e-04\n",
            "Epoch 134/500\n",
            "9/9 [==============================] - 0s 49ms/step - loss: 3.3024e-04 - val_loss: 3.3057e-04\n",
            "Epoch 135/500\n",
            "9/9 [==============================] - 0s 50ms/step - loss: 3.4100e-04 - val_loss: 2.8461e-04\n",
            "Epoch 136/500\n",
            "9/9 [==============================] - 0s 49ms/step - loss: 3.5257e-04 - val_loss: 3.0423e-04\n",
            "Epoch 137/500\n",
            "9/9 [==============================] - 0s 50ms/step - loss: 3.3510e-04 - val_loss: 3.1233e-04\n",
            "Epoch 138/500\n",
            "9/9 [==============================] - 0s 50ms/step - loss: 3.4305e-04 - val_loss: 3.2833e-04\n",
            "Epoch 139/500\n",
            "9/9 [==============================] - 0s 48ms/step - loss: 3.3120e-04 - val_loss: 3.0567e-04\n",
            "Epoch 140/500\n",
            "9/9 [==============================] - 0s 49ms/step - loss: 3.4370e-04 - val_loss: 3.2805e-04\n",
            "Epoch 141/500\n",
            "9/9 [==============================] - 0s 48ms/step - loss: 3.2013e-04 - val_loss: 3.2164e-04\n",
            "Epoch 142/500\n",
            "9/9 [==============================] - 0s 49ms/step - loss: 3.3890e-04 - val_loss: 2.8944e-04\n",
            "Epoch 143/500\n",
            "9/9 [==============================] - 0s 48ms/step - loss: 3.4199e-04 - val_loss: 2.3356e-04\n",
            "Epoch 144/500\n",
            "9/9 [==============================] - 0s 48ms/step - loss: 3.2555e-04 - val_loss: 2.7337e-04\n",
            "Epoch 145/500\n",
            "9/9 [==============================] - 0s 49ms/step - loss: 3.2750e-04 - val_loss: 3.1728e-04\n",
            "Epoch 146/500\n",
            "9/9 [==============================] - 0s 49ms/step - loss: 3.2640e-04 - val_loss: 3.0330e-04\n",
            "Epoch 147/500\n",
            "9/9 [==============================] - 0s 49ms/step - loss: 3.1979e-04 - val_loss: 3.1306e-04\n",
            "Epoch 148/500\n",
            "9/9 [==============================] - 0s 47ms/step - loss: 3.3019e-04 - val_loss: 2.7468e-04\n",
            "Epoch 149/500\n",
            "9/9 [==============================] - 0s 49ms/step - loss: 3.0146e-04 - val_loss: 3.1596e-04\n",
            "Epoch 150/500\n",
            "9/9 [==============================] - 0s 47ms/step - loss: 3.4541e-04 - val_loss: 2.1627e-04\n",
            "Epoch 151/500\n",
            "9/9 [==============================] - 0s 48ms/step - loss: 3.0244e-04 - val_loss: 3.6452e-04\n",
            "Epoch 152/500\n",
            "9/9 [==============================] - 0s 49ms/step - loss: 2.9262e-04 - val_loss: 1.9217e-04\n",
            "Epoch 153/500\n",
            "9/9 [==============================] - 0s 49ms/step - loss: 3.4770e-04 - val_loss: 2.7476e-04\n",
            "Epoch 154/500\n",
            "9/9 [==============================] - 0s 49ms/step - loss: 3.0311e-04 - val_loss: 2.9789e-04\n",
            "Epoch 155/500\n",
            "9/9 [==============================] - 0s 50ms/step - loss: 3.0702e-04 - val_loss: 2.5903e-04\n",
            "Epoch 156/500\n",
            "9/9 [==============================] - 0s 49ms/step - loss: 3.1847e-04 - val_loss: 2.7762e-04\n",
            "Epoch 157/500\n",
            "9/9 [==============================] - 0s 48ms/step - loss: 2.9234e-04 - val_loss: 2.6884e-04\n",
            "Epoch 158/500\n",
            "9/9 [==============================] - 0s 50ms/step - loss: 3.2970e-04 - val_loss: 2.2555e-04\n",
            "Epoch 159/500\n",
            "9/9 [==============================] - 0s 49ms/step - loss: 2.7401e-04 - val_loss: 3.1542e-04\n",
            "Epoch 160/500\n",
            "9/9 [==============================] - 0s 49ms/step - loss: 3.0945e-04 - val_loss: 2.3449e-04\n",
            "Epoch 161/500\n",
            "9/9 [==============================] - 0s 48ms/step - loss: 3.0392e-04 - val_loss: 2.4217e-04\n",
            "Epoch 162/500\n",
            "9/9 [==============================] - 0s 48ms/step - loss: 2.8854e-04 - val_loss: 3.4546e-04\n",
            "Epoch 163/500\n",
            "9/9 [==============================] - 0s 49ms/step - loss: 3.0428e-04 - val_loss: 2.5464e-04\n",
            "Epoch 164/500\n",
            "9/9 [==============================] - 0s 49ms/step - loss: 3.0954e-04 - val_loss: 2.7292e-04\n",
            "Epoch 165/500\n",
            "9/9 [==============================] - 0s 49ms/step - loss: 2.9329e-04 - val_loss: 2.5452e-04\n",
            "Epoch 166/500\n",
            "9/9 [==============================] - 0s 49ms/step - loss: 2.9758e-04 - val_loss: 2.9840e-04\n",
            "Epoch 167/500\n",
            "9/9 [==============================] - 0s 49ms/step - loss: 3.0305e-04 - val_loss: 2.3643e-04\n",
            "Epoch 168/500\n",
            "9/9 [==============================] - 0s 49ms/step - loss: 2.9205e-04 - val_loss: 2.9131e-04\n",
            "Epoch 169/500\n",
            "9/9 [==============================] - 0s 50ms/step - loss: 2.9611e-04 - val_loss: 2.1909e-04\n",
            "Epoch 170/500\n",
            "9/9 [==============================] - 0s 49ms/step - loss: 2.9946e-04 - val_loss: 2.9090e-04\n",
            "Epoch 171/500\n",
            "9/9 [==============================] - 0s 48ms/step - loss: 2.7430e-04 - val_loss: 2.6961e-04\n",
            "Epoch 172/500\n",
            "9/9 [==============================] - 0s 49ms/step - loss: 3.1346e-04 - val_loss: 2.5390e-04\n",
            "Epoch 173/500\n",
            "9/9 [==============================] - 0s 50ms/step - loss: 2.6066e-04 - val_loss: 2.6197e-04\n",
            "Epoch 174/500\n",
            "9/9 [==============================] - 0s 51ms/step - loss: 3.1407e-04 - val_loss: 2.2736e-04\n",
            "Epoch 175/500\n",
            "9/9 [==============================] - 0s 48ms/step - loss: 2.8396e-04 - val_loss: 3.1118e-04\n",
            "Epoch 176/500\n",
            "9/9 [==============================] - 0s 48ms/step - loss: 2.9238e-04 - val_loss: 1.9710e-04\n",
            "Epoch 177/500\n",
            "9/9 [==============================] - 0s 48ms/step - loss: 2.9608e-04 - val_loss: 2.7784e-04\n",
            "Epoch 178/500\n",
            "9/9 [==============================] - 0s 48ms/step - loss: 2.7988e-04 - val_loss: 2.3659e-04\n",
            "Epoch 179/500\n",
            "9/9 [==============================] - 0s 48ms/step - loss: 2.9328e-04 - val_loss: 2.4274e-04\n",
            "Epoch 180/500\n",
            "9/9 [==============================] - 0s 48ms/step - loss: 2.6329e-04 - val_loss: 3.1091e-04\n",
            "Epoch 181/500\n",
            "9/9 [==============================] - 0s 48ms/step - loss: 2.9883e-04 - val_loss: 2.0853e-04\n",
            "Epoch 182/500\n",
            "9/9 [==============================] - 0s 50ms/step - loss: 2.6940e-04 - val_loss: 2.9993e-04\n",
            "Epoch 183/500\n",
            "9/9 [==============================] - 0s 50ms/step - loss: 2.8667e-04 - val_loss: 1.9321e-04\n",
            "Epoch 184/500\n",
            "9/9 [==============================] - 0s 48ms/step - loss: 2.7833e-04 - val_loss: 2.3655e-04\n",
            "Epoch 185/500\n",
            "9/9 [==============================] - 0s 48ms/step - loss: 2.8165e-04 - val_loss: 2.3325e-04\n",
            "Epoch 186/500\n",
            "9/9 [==============================] - 0s 48ms/step - loss: 2.7794e-04 - val_loss: 2.4823e-04\n",
            "Epoch 187/500\n",
            "9/9 [==============================] - 0s 48ms/step - loss: 2.6226e-04 - val_loss: 2.2281e-04\n",
            "Epoch 188/500\n",
            "9/9 [==============================] - 0s 49ms/step - loss: 2.9431e-04 - val_loss: 2.2726e-04\n",
            "Epoch 189/500\n",
            "9/9 [==============================] - 0s 47ms/step - loss: 2.5648e-04 - val_loss: 2.4293e-04\n",
            "Epoch 190/500\n",
            "9/9 [==============================] - 0s 48ms/step - loss: 2.8652e-04 - val_loss: 2.5920e-04\n",
            "Epoch 191/500\n",
            "9/9 [==============================] - 0s 49ms/step - loss: 2.5406e-04 - val_loss: 1.9824e-04\n",
            "Epoch 192/500\n",
            "9/9 [==============================] - 0s 51ms/step - loss: 2.8226e-04 - val_loss: 2.3544e-04\n",
            "Epoch 193/500\n",
            "9/9 [==============================] - 0s 49ms/step - loss: 2.6200e-04 - val_loss: 1.6690e-04\n",
            "Epoch 194/500\n",
            "9/9 [==============================] - 0s 48ms/step - loss: 2.8962e-04 - val_loss: 2.4922e-04\n",
            "Epoch 195/500\n",
            "9/9 [==============================] - 0s 49ms/step - loss: 2.3008e-04 - val_loss: 2.7669e-04\n",
            "Epoch 196/500\n",
            "9/9 [==============================] - 0s 50ms/step - loss: 2.8860e-04 - val_loss: 2.0239e-04\n",
            "Epoch 197/500\n",
            "9/9 [==============================] - 0s 48ms/step - loss: 2.7247e-04 - val_loss: 1.8734e-04\n",
            "Epoch 198/500\n",
            "9/9 [==============================] - 0s 49ms/step - loss: 2.5139e-04 - val_loss: 3.3028e-04\n",
            "Epoch 199/500\n",
            "9/9 [==============================] - 0s 48ms/step - loss: 2.5694e-04 - val_loss: 2.2028e-04\n",
            "Epoch 200/500\n",
            "9/9 [==============================] - 0s 49ms/step - loss: 2.8844e-04 - val_loss: 2.2094e-04\n",
            "Epoch 201/500\n",
            "9/9 [==============================] - 0s 49ms/step - loss: 2.2594e-04 - val_loss: 3.1894e-04\n",
            "Epoch 202/500\n",
            "9/9 [==============================] - 0s 49ms/step - loss: 2.8033e-04 - val_loss: 1.8228e-04\n",
            "Epoch 203/500\n",
            "9/9 [==============================] - 0s 48ms/step - loss: 2.5709e-04 - val_loss: 3.0100e-04\n",
            "Epoch 204/500\n",
            "9/9 [==============================] - 0s 49ms/step - loss: 2.5917e-04 - val_loss: 2.1477e-04\n",
            "Epoch 205/500\n",
            "9/9 [==============================] - 0s 48ms/step - loss: 2.6942e-04 - val_loss: 2.0100e-04\n",
            "Epoch 206/500\n",
            "9/9 [==============================] - 0s 48ms/step - loss: 2.5550e-04 - val_loss: 2.7981e-04\n",
            "Epoch 207/500\n",
            "9/9 [==============================] - 0s 49ms/step - loss: 2.6021e-04 - val_loss: 1.7667e-04\n",
            "Epoch 208/500\n",
            "9/9 [==============================] - 0s 48ms/step - loss: 2.5036e-04 - val_loss: 3.0219e-04\n",
            "Epoch 209/500\n",
            "9/9 [==============================] - 0s 49ms/step - loss: 2.5428e-04 - val_loss: 2.0215e-04\n",
            "Epoch 210/500\n",
            "9/9 [==============================] - 0s 49ms/step - loss: 2.7272e-04 - val_loss: 2.4203e-04\n",
            "Epoch 211/500\n",
            "9/9 [==============================] - 0s 47ms/step - loss: 2.1995e-04 - val_loss: 2.5169e-04\n",
            "Epoch 212/500\n",
            "9/9 [==============================] - 0s 47ms/step - loss: 2.7810e-04 - val_loss: 1.7164e-04\n",
            "Epoch 213/500\n",
            "9/9 [==============================] - 0s 47ms/step - loss: 2.5604e-04 - val_loss: 2.6187e-04\n",
            "Epoch 214/500\n",
            "9/9 [==============================] - 0s 48ms/step - loss: 2.4470e-04 - val_loss: 2.0991e-04\n",
            "Epoch 215/500\n",
            "9/9 [==============================] - 0s 47ms/step - loss: 2.4574e-04 - val_loss: 2.2562e-04\n",
            "Epoch 216/500\n",
            "9/9 [==============================] - 0s 47ms/step - loss: 2.4514e-04 - val_loss: 2.7151e-04\n",
            "Epoch 217/500\n",
            "9/9 [==============================] - 0s 48ms/step - loss: 2.4911e-04 - val_loss: 1.9647e-04\n",
            "Epoch 218/500\n",
            "9/9 [==============================] - 0s 49ms/step - loss: 2.4921e-04 - val_loss: 2.4848e-04\n",
            "Epoch 219/500\n",
            "9/9 [==============================] - 0s 47ms/step - loss: 2.4612e-04 - val_loss: 1.8165e-04\n",
            "Epoch 220/500\n",
            "9/9 [==============================] - 0s 50ms/step - loss: 2.4886e-04 - val_loss: 2.8147e-04\n",
            "Epoch 221/500\n",
            "9/9 [==============================] - 0s 49ms/step - loss: 2.4344e-04 - val_loss: 1.8383e-04\n",
            "Epoch 222/500\n",
            "9/9 [==============================] - 0s 48ms/step - loss: 2.5305e-04 - val_loss: 2.5052e-04\n",
            "Epoch 223/500\n",
            "9/9 [==============================] - 0s 48ms/step - loss: 2.4975e-04 - val_loss: 1.7065e-04\n",
            "Epoch 224/500\n",
            "9/9 [==============================] - 0s 49ms/step - loss: 2.4100e-04 - val_loss: 2.2301e-04\n",
            "Epoch 225/500\n",
            "9/9 [==============================] - 0s 50ms/step - loss: 2.4296e-04 - val_loss: 2.4026e-04\n",
            "Epoch 226/500\n",
            "9/9 [==============================] - 0s 47ms/step - loss: 2.4168e-04 - val_loss: 2.0930e-04\n",
            "Epoch 227/500\n",
            "9/9 [==============================] - 0s 50ms/step - loss: 2.4470e-04 - val_loss: 2.1103e-04\n",
            "Epoch 228/500\n",
            "9/9 [==============================] - 0s 48ms/step - loss: 2.4386e-04 - val_loss: 2.0030e-04\n",
            "Epoch 229/500\n",
            "9/9 [==============================] - 0s 47ms/step - loss: 2.4516e-04 - val_loss: 2.2126e-04\n",
            "Epoch 230/500\n",
            "9/9 [==============================] - 0s 49ms/step - loss: 2.3184e-04 - val_loss: 1.8627e-04\n",
            "Epoch 231/500\n",
            "9/9 [==============================] - 0s 47ms/step - loss: 2.5926e-04 - val_loss: 1.9910e-04\n",
            "Epoch 232/500\n",
            "9/9 [==============================] - 0s 48ms/step - loss: 2.1986e-04 - val_loss: 2.5734e-04\n",
            "Epoch 233/500\n",
            "9/9 [==============================] - 0s 48ms/step - loss: 2.4361e-04 - val_loss: 1.7439e-04\n",
            "Epoch 234/500\n",
            "9/9 [==============================] - 0s 48ms/step - loss: 2.3997e-04 - val_loss: 2.6764e-04\n",
            "Epoch 235/500\n",
            "9/9 [==============================] - 0s 48ms/step - loss: 2.2863e-04 - val_loss: 1.5822e-04\n",
            "Epoch 236/500\n",
            "9/9 [==============================] - 0s 49ms/step - loss: 2.6135e-04 - val_loss: 1.9905e-04\n",
            "Epoch 237/500\n",
            "9/9 [==============================] - 0s 49ms/step - loss: 2.0402e-04 - val_loss: 2.0754e-04\n",
            "Epoch 238/500\n",
            "9/9 [==============================] - 0s 47ms/step - loss: 2.6427e-04 - val_loss: 1.5433e-04\n",
            "Epoch 239/500\n",
            "9/9 [==============================] - 0s 49ms/step - loss: 2.1957e-04 - val_loss: 3.4864e-04\n",
            "Epoch 240/500\n",
            "9/9 [==============================] - 0s 48ms/step - loss: 2.2834e-04 - val_loss: 1.3398e-04\n",
            "Epoch 241/500\n",
            "9/9 [==============================] - 0s 47ms/step - loss: 2.5494e-04 - val_loss: 2.4770e-04\n",
            "Epoch 242/500\n",
            "9/9 [==============================] - 0s 48ms/step - loss: 1.9737e-04 - val_loss: 1.4688e-04\n",
            "Epoch 243/500\n",
            "9/9 [==============================] - 0s 49ms/step - loss: 2.6250e-04 - val_loss: 2.0461e-04\n",
            "Epoch 244/500\n",
            "9/9 [==============================] - 0s 49ms/step - loss: 2.1602e-04 - val_loss: 2.3236e-04\n",
            "Epoch 245/500\n",
            "9/9 [==============================] - 0s 49ms/step - loss: 2.3605e-04 - val_loss: 1.7396e-04\n",
            "Epoch 246/500\n",
            "9/9 [==============================] - 0s 48ms/step - loss: 2.4133e-04 - val_loss: 2.0963e-04\n",
            "Epoch 247/500\n",
            "9/9 [==============================] - 0s 49ms/step - loss: 2.2341e-04 - val_loss: 1.9445e-04\n",
            "Epoch 248/500\n",
            "9/9 [==============================] - 0s 48ms/step - loss: 2.2781e-04 - val_loss: 2.3185e-04\n",
            "Epoch 249/500\n",
            "9/9 [==============================] - 0s 48ms/step - loss: 2.2991e-04 - val_loss: 1.8398e-04\n",
            "Epoch 250/500\n",
            "9/9 [==============================] - 0s 48ms/step - loss: 2.2646e-04 - val_loss: 2.1051e-04\n",
            "Epoch 251/500\n",
            "9/9 [==============================] - 0s 49ms/step - loss: 2.3291e-04 - val_loss: 1.8963e-04\n",
            "Epoch 252/500\n",
            "9/9 [==============================] - 0s 49ms/step - loss: 2.0931e-04 - val_loss: 1.9756e-04\n",
            "Epoch 253/500\n",
            "9/9 [==============================] - 0s 47ms/step - loss: 2.4660e-04 - val_loss: 1.7503e-04\n",
            "Epoch 254/500\n",
            "9/9 [==============================] - 0s 49ms/step - loss: 2.1041e-04 - val_loss: 2.0621e-04\n",
            "Epoch 255/500\n",
            "9/9 [==============================] - 0s 49ms/step - loss: 2.4236e-04 - val_loss: 1.8949e-04\n",
            "Epoch 256/500\n",
            "9/9 [==============================] - 0s 49ms/step - loss: 2.1500e-04 - val_loss: 2.0966e-04\n",
            "Epoch 257/500\n",
            "9/9 [==============================] - 0s 49ms/step - loss: 2.3050e-04 - val_loss: 1.8377e-04\n",
            "Epoch 258/500\n",
            "9/9 [==============================] - 0s 49ms/step - loss: 2.2446e-04 - val_loss: 1.8536e-04\n",
            "Epoch 259/500\n",
            "9/9 [==============================] - 0s 48ms/step - loss: 2.2120e-04 - val_loss: 2.1181e-04\n",
            "Epoch 260/500\n",
            "9/9 [==============================] - 0s 48ms/step - loss: 2.2046e-04 - val_loss: 1.7444e-04\n",
            "Epoch 261/500\n",
            "9/9 [==============================] - 0s 49ms/step - loss: 2.1763e-04 - val_loss: 1.8961e-04\n",
            "Epoch 262/500\n",
            "9/9 [==============================] - 0s 48ms/step - loss: 2.2814e-04 - val_loss: 1.8187e-04\n",
            "Epoch 263/500\n",
            "9/9 [==============================] - 0s 49ms/step - loss: 2.2096e-04 - val_loss: 2.2221e-04\n",
            "Epoch 264/500\n",
            "9/9 [==============================] - 0s 48ms/step - loss: 2.1083e-04 - val_loss: 1.9103e-04\n",
            "Epoch 265/500\n",
            "9/9 [==============================] - 0s 49ms/step - loss: 2.4295e-04 - val_loss: 1.5304e-04\n",
            "Epoch 266/500\n",
            "9/9 [==============================] - 0s 48ms/step - loss: 1.9649e-04 - val_loss: 2.5043e-04\n",
            "Epoch 267/500\n",
            "9/9 [==============================] - 0s 47ms/step - loss: 2.2948e-04 - val_loss: 1.5965e-04\n",
            "Epoch 268/500\n",
            "9/9 [==============================] - 0s 49ms/step - loss: 2.2306e-04 - val_loss: 1.8824e-04\n",
            "Epoch 269/500\n",
            "9/9 [==============================] - 0s 50ms/step - loss: 2.0807e-04 - val_loss: 2.1625e-04\n",
            "Epoch 270/500\n",
            "9/9 [==============================] - 0s 47ms/step - loss: 2.1572e-04 - val_loss: 1.7371e-04\n",
            "Epoch 271/500\n",
            "9/9 [==============================] - 0s 49ms/step - loss: 2.2090e-04 - val_loss: 2.0534e-04\n",
            "Epoch 272/500\n",
            "9/9 [==============================] - 0s 49ms/step - loss: 2.1229e-04 - val_loss: 1.7491e-04\n",
            "Epoch 273/500\n",
            "9/9 [==============================] - 0s 47ms/step - loss: 2.1676e-04 - val_loss: 1.8695e-04\n",
            "Epoch 274/500\n",
            "9/9 [==============================] - 0s 47ms/step - loss: 2.1029e-04 - val_loss: 2.0551e-04\n",
            "Epoch 275/500\n",
            "9/9 [==============================] - 0s 47ms/step - loss: 2.1697e-04 - val_loss: 1.9318e-04\n",
            "Epoch 276/500\n",
            "9/9 [==============================] - 0s 48ms/step - loss: 2.1694e-04 - val_loss: 1.9586e-04\n",
            "Epoch 277/500\n",
            "9/9 [==============================] - 0s 50ms/step - loss: 2.0312e-04 - val_loss: 1.7854e-04\n",
            "Epoch 278/500\n",
            "9/9 [==============================] - 0s 47ms/step - loss: 2.1294e-04 - val_loss: 2.1245e-04\n",
            "Epoch 279/500\n",
            "9/9 [==============================] - 0s 49ms/step - loss: 2.1384e-04 - val_loss: 1.6307e-04\n",
            "Epoch 280/500\n",
            "9/9 [==============================] - 0s 47ms/step - loss: 2.1193e-04 - val_loss: 2.4217e-04\n",
            "Epoch 281/500\n",
            "9/9 [==============================] - 0s 50ms/step - loss: 1.9914e-04 - val_loss: 2.1489e-04\n",
            "Epoch 282/500\n",
            "9/9 [==============================] - 0s 48ms/step - loss: 2.1944e-04 - val_loss: 1.6700e-04\n",
            "Epoch 283/500\n",
            "9/9 [==============================] - 0s 49ms/step - loss: 2.1321e-04 - val_loss: 1.8629e-04\n",
            "Epoch 284/500\n",
            "9/9 [==============================] - 0s 48ms/step - loss: 2.0848e-04 - val_loss: 1.7031e-04\n",
            "Epoch 285/500\n",
            "9/9 [==============================] - 0s 47ms/step - loss: 1.9664e-04 - val_loss: 1.9414e-04\n",
            "Epoch 286/500\n",
            "9/9 [==============================] - 0s 49ms/step - loss: 2.1885e-04 - val_loss: 1.9097e-04\n",
            "Epoch 287/500\n",
            "9/9 [==============================] - 0s 48ms/step - loss: 1.9793e-04 - val_loss: 1.6305e-04\n",
            "Epoch 288/500\n",
            "9/9 [==============================] - 0s 48ms/step - loss: 2.2032e-04 - val_loss: 1.7878e-04\n",
            "Epoch 289/500\n",
            "9/9 [==============================] - 0s 48ms/step - loss: 2.0726e-04 - val_loss: 1.6659e-04\n",
            "Epoch 290/500\n",
            "9/9 [==============================] - 0s 50ms/step - loss: 1.9845e-04 - val_loss: 1.7502e-04\n",
            "Epoch 291/500\n",
            "9/9 [==============================] - 0s 49ms/step - loss: 2.1355e-04 - val_loss: 1.5600e-04\n",
            "Epoch 292/500\n",
            "9/9 [==============================] - 0s 48ms/step - loss: 1.9702e-04 - val_loss: 1.9154e-04\n",
            "Epoch 293/500\n",
            "9/9 [==============================] - 0s 49ms/step - loss: 2.0717e-04 - val_loss: 1.4713e-04\n",
            "Epoch 294/500\n",
            "9/9 [==============================] - 0s 49ms/step - loss: 2.1423e-04 - val_loss: 1.8894e-04\n",
            "Epoch 295/500\n",
            "9/9 [==============================] - 0s 48ms/step - loss: 1.8992e-04 - val_loss: 1.9802e-04\n",
            "Epoch 296/500\n",
            "9/9 [==============================] - 0s 48ms/step - loss: 2.1088e-04 - val_loss: 1.6702e-04\n",
            "Epoch 297/500\n",
            "9/9 [==============================] - 0s 48ms/step - loss: 2.0396e-04 - val_loss: 1.8627e-04\n",
            "Epoch 298/500\n",
            "9/9 [==============================] - 0s 49ms/step - loss: 1.9710e-04 - val_loss: 1.9852e-04\n",
            "Epoch 299/500\n",
            "9/9 [==============================] - 0s 49ms/step - loss: 2.1359e-04 - val_loss: 1.4613e-04\n",
            "Epoch 300/500\n",
            "9/9 [==============================] - 0s 48ms/step - loss: 1.8765e-04 - val_loss: 2.3746e-04\n",
            "Epoch 301/500\n",
            "9/9 [==============================] - 0s 48ms/step - loss: 2.0967e-04 - val_loss: 1.6346e-04\n",
            "Epoch 302/500\n",
            "9/9 [==============================] - 0s 49ms/step - loss: 1.9391e-04 - val_loss: 2.2418e-04\n",
            "Epoch 303/500\n",
            "9/9 [==============================] - 0s 48ms/step - loss: 1.9808e-04 - val_loss: 1.4154e-04\n",
            "Epoch 304/500\n",
            "9/9 [==============================] - 0s 49ms/step - loss: 2.0102e-04 - val_loss: 1.9033e-04\n",
            "Epoch 305/500\n",
            "9/9 [==============================] - 0s 47ms/step - loss: 2.0015e-04 - val_loss: 1.7688e-04\n",
            "Epoch 306/500\n",
            "9/9 [==============================] - 0s 48ms/step - loss: 2.0531e-04 - val_loss: 1.7677e-04\n",
            "Epoch 307/500\n",
            "9/9 [==============================] - 0s 47ms/step - loss: 1.9236e-04 - val_loss: 1.5150e-04\n",
            "Epoch 308/500\n",
            "9/9 [==============================] - 0s 48ms/step - loss: 2.0675e-04 - val_loss: 1.3919e-04\n",
            "Epoch 309/500\n",
            "9/9 [==============================] - 0s 48ms/step - loss: 1.9751e-04 - val_loss: 1.9506e-04\n",
            "Epoch 310/500\n",
            "9/9 [==============================] - 0s 48ms/step - loss: 1.6971e-04 - val_loss: 1.4310e-04\n",
            "Epoch 311/500\n",
            "9/9 [==============================] - 0s 49ms/step - loss: 2.3355e-04 - val_loss: 1.6548e-04\n",
            "Epoch 312/500\n",
            "9/9 [==============================] - 0s 47ms/step - loss: 1.6727e-04 - val_loss: 1.3793e-04\n",
            "Epoch 313/500\n",
            "9/9 [==============================] - 0s 50ms/step - loss: 2.1328e-04 - val_loss: 1.4770e-04\n",
            "Epoch 314/500\n",
            "9/9 [==============================] - 0s 49ms/step - loss: 1.6869e-04 - val_loss: 1.6935e-04\n",
            "Epoch 315/500\n",
            "9/9 [==============================] - 0s 47ms/step - loss: 2.2181e-04 - val_loss: 1.5671e-04\n",
            "Epoch 316/500\n",
            "9/9 [==============================] - 0s 48ms/step - loss: 1.7465e-04 - val_loss: 1.9266e-04\n",
            "Epoch 317/500\n",
            "9/9 [==============================] - 0s 49ms/step - loss: 2.0262e-04 - val_loss: 1.6860e-04\n",
            "Epoch 318/500\n",
            "9/9 [==============================] - 0s 48ms/step - loss: 1.8431e-04 - val_loss: 1.6329e-04\n",
            "Epoch 319/500\n",
            "9/9 [==============================] - 0s 48ms/step - loss: 1.9745e-04 - val_loss: 1.6877e-04\n",
            "Epoch 320/500\n",
            "9/9 [==============================] - 0s 50ms/step - loss: 1.8450e-04 - val_loss: 2.1204e-04\n",
            "Epoch 321/500\n",
            "9/9 [==============================] - 0s 48ms/step - loss: 1.9419e-04 - val_loss: 1.4690e-04\n",
            "Epoch 322/500\n",
            "9/9 [==============================] - 0s 48ms/step - loss: 1.9048e-04 - val_loss: 1.9890e-04\n",
            "Epoch 323/500\n",
            "9/9 [==============================] - 0s 49ms/step - loss: 1.8264e-04 - val_loss: 1.6256e-04\n",
            "Epoch 324/500\n",
            "9/9 [==============================] - 0s 48ms/step - loss: 2.0108e-04 - val_loss: 1.3914e-04\n",
            "Epoch 325/500\n",
            "9/9 [==============================] - 0s 47ms/step - loss: 1.7009e-04 - val_loss: 2.2475e-04\n",
            "Epoch 326/500\n",
            "9/9 [==============================] - 0s 49ms/step - loss: 2.0469e-04 - val_loss: 1.4173e-04\n",
            "Epoch 327/500\n",
            "9/9 [==============================] - 0s 49ms/step - loss: 1.7644e-04 - val_loss: 1.9111e-04\n",
            "Epoch 328/500\n",
            "9/9 [==============================] - 0s 48ms/step - loss: 2.0007e-04 - val_loss: 1.4762e-04\n",
            "Epoch 329/500\n",
            "9/9 [==============================] - 0s 49ms/step - loss: 1.7708e-04 - val_loss: 1.6494e-04\n",
            "Epoch 330/500\n",
            "9/9 [==============================] - 0s 48ms/step - loss: 1.8873e-04 - val_loss: 1.9549e-04\n",
            "Epoch 331/500\n",
            "9/9 [==============================] - 0s 49ms/step - loss: 1.9154e-04 - val_loss: 1.4563e-04\n",
            "Epoch 332/500\n",
            "9/9 [==============================] - 0s 47ms/step - loss: 1.9341e-04 - val_loss: 1.5796e-04\n",
            "Epoch 333/500\n",
            "9/9 [==============================] - 0s 49ms/step - loss: 1.7221e-04 - val_loss: 1.3786e-04\n",
            "Epoch 334/500\n",
            "9/9 [==============================] - 0s 47ms/step - loss: 1.9215e-04 - val_loss: 1.8648e-04\n",
            "Epoch 335/500\n",
            "9/9 [==============================] - 0s 50ms/step - loss: 1.6598e-04 - val_loss: 1.8096e-04\n",
            "Epoch 336/500\n",
            "9/9 [==============================] - 0s 47ms/step - loss: 2.0398e-04 - val_loss: 1.4062e-04\n",
            "Epoch 337/500\n",
            "9/9 [==============================] - 0s 47ms/step - loss: 1.7787e-04 - val_loss: 1.9520e-04\n",
            "Epoch 338/500\n",
            "9/9 [==============================] - 0s 48ms/step - loss: 1.7885e-04 - val_loss: 1.4102e-04\n",
            "Epoch 339/500\n",
            "9/9 [==============================] - 0s 48ms/step - loss: 1.9039e-04 - val_loss: 1.4596e-04\n",
            "Epoch 340/500\n",
            "9/9 [==============================] - 0s 47ms/step - loss: 1.7557e-04 - val_loss: 1.7337e-04\n",
            "Epoch 341/500\n",
            "9/9 [==============================] - 0s 50ms/step - loss: 1.9360e-04 - val_loss: 1.3600e-04\n",
            "Epoch 342/500\n",
            "9/9 [==============================] - 0s 48ms/step - loss: 1.8199e-04 - val_loss: 1.5037e-04\n",
            "Epoch 343/500\n",
            "9/9 [==============================] - 0s 48ms/step - loss: 1.6906e-04 - val_loss: 2.2578e-04\n",
            "Epoch 344/500\n",
            "9/9 [==============================] - 0s 49ms/step - loss: 1.9356e-04 - val_loss: 1.3322e-04\n",
            "Epoch 345/500\n",
            "9/9 [==============================] - 0s 48ms/step - loss: 1.6294e-04 - val_loss: 2.3479e-04\n",
            "Epoch 346/500\n",
            "9/9 [==============================] - 0s 49ms/step - loss: 1.9145e-04 - val_loss: 1.2065e-04\n",
            "Epoch 347/500\n",
            "9/9 [==============================] - 0s 48ms/step - loss: 1.8755e-04 - val_loss: 1.8083e-04\n",
            "Epoch 348/500\n",
            "9/9 [==============================] - 0s 47ms/step - loss: 1.7480e-04 - val_loss: 1.1921e-04\n",
            "Epoch 349/500\n",
            "9/9 [==============================] - 0s 48ms/step - loss: 1.8595e-04 - val_loss: 1.7155e-04\n",
            "Epoch 350/500\n",
            "9/9 [==============================] - 0s 48ms/step - loss: 1.6961e-04 - val_loss: 1.4114e-04\n",
            "Epoch 351/500\n",
            "9/9 [==============================] - 0s 49ms/step - loss: 1.9254e-04 - val_loss: 1.6327e-04\n",
            "Epoch 352/500\n",
            "9/9 [==============================] - 0s 48ms/step - loss: 1.6560e-04 - val_loss: 1.4178e-04\n",
            "Epoch 353/500\n",
            "9/9 [==============================] - 0s 48ms/step - loss: 1.7984e-04 - val_loss: 1.4156e-04\n",
            "Epoch 354/500\n",
            "9/9 [==============================] - 0s 49ms/step - loss: 1.7601e-04 - val_loss: 1.6284e-04\n",
            "Epoch 355/500\n",
            "9/9 [==============================] - 0s 49ms/step - loss: 1.7334e-04 - val_loss: 1.5575e-04\n",
            "Epoch 356/500\n",
            "9/9 [==============================] - 0s 48ms/step - loss: 1.7032e-04 - val_loss: 1.8384e-04\n",
            "Epoch 357/500\n",
            "9/9 [==============================] - 0s 50ms/step - loss: 1.8736e-04 - val_loss: 1.2596e-04\n",
            "Epoch 358/500\n",
            "9/9 [==============================] - 0s 48ms/step - loss: 1.6519e-04 - val_loss: 2.2346e-04\n",
            "Epoch 359/500\n",
            "9/9 [==============================] - 0s 49ms/step - loss: 1.7379e-04 - val_loss: 1.2622e-04\n",
            "Epoch 360/500\n",
            "9/9 [==============================] - 0s 49ms/step - loss: 1.8859e-04 - val_loss: 1.8746e-04\n",
            "Epoch 361/500\n",
            "9/9 [==============================] - 0s 48ms/step - loss: 1.6036e-04 - val_loss: 1.5365e-04\n",
            "Epoch 362/500\n",
            "9/9 [==============================] - 0s 50ms/step - loss: 1.8023e-04 - val_loss: 1.4186e-04\n",
            "Epoch 363/500\n",
            "9/9 [==============================] - 0s 47ms/step - loss: 1.6301e-04 - val_loss: 1.5857e-04\n",
            "Epoch 364/500\n",
            "9/9 [==============================] - 0s 48ms/step - loss: 1.8480e-04 - val_loss: 1.5367e-04\n",
            "Epoch 365/500\n",
            "9/9 [==============================] - 0s 48ms/step - loss: 1.6848e-04 - val_loss: 1.4816e-04\n",
            "Epoch 366/500\n",
            "9/9 [==============================] - 0s 49ms/step - loss: 1.6847e-04 - val_loss: 1.8021e-04\n",
            "Epoch 367/500\n",
            "9/9 [==============================] - 0s 48ms/step - loss: 1.6404e-04 - val_loss: 1.4268e-04\n",
            "Epoch 368/500\n",
            "9/9 [==============================] - 0s 49ms/step - loss: 1.9338e-04 - val_loss: 1.1895e-04\n",
            "Epoch 369/500\n",
            "9/9 [==============================] - 0s 48ms/step - loss: 1.5650e-04 - val_loss: 2.0000e-04\n",
            "Epoch 370/500\n",
            "9/9 [==============================] - 0s 47ms/step - loss: 1.7905e-04 - val_loss: 1.3122e-04\n",
            "Epoch 371/500\n",
            "9/9 [==============================] - 0s 49ms/step - loss: 1.5438e-04 - val_loss: 2.0542e-04\n",
            "Epoch 372/500\n",
            "9/9 [==============================] - 0s 49ms/step - loss: 1.8064e-04 - val_loss: 1.0851e-04\n",
            "Epoch 373/500\n",
            "9/9 [==============================] - 0s 48ms/step - loss: 1.6762e-04 - val_loss: 2.0425e-04\n",
            "Epoch 374/500\n",
            "9/9 [==============================] - 0s 49ms/step - loss: 1.5976e-04 - val_loss: 1.3725e-04\n",
            "Epoch 375/500\n",
            "9/9 [==============================] - 0s 48ms/step - loss: 1.7600e-04 - val_loss: 1.5313e-04\n",
            "Epoch 376/500\n",
            "9/9 [==============================] - 0s 48ms/step - loss: 1.6657e-04 - val_loss: 1.2734e-04\n",
            "Epoch 377/500\n",
            "9/9 [==============================] - 0s 48ms/step - loss: 1.5851e-04 - val_loss: 1.3881e-04\n",
            "Epoch 378/500\n",
            "9/9 [==============================] - 0s 48ms/step - loss: 1.9231e-04 - val_loss: 1.3136e-04\n",
            "Epoch 379/500\n",
            "9/9 [==============================] - 0s 50ms/step - loss: 1.4585e-04 - val_loss: 1.3962e-04\n",
            "Epoch 380/500\n",
            "9/9 [==============================] - 0s 51ms/step - loss: 1.7759e-04 - val_loss: 1.4170e-04\n",
            "Epoch 381/500\n",
            "9/9 [==============================] - 0s 49ms/step - loss: 1.6210e-04 - val_loss: 1.7277e-04\n",
            "Epoch 382/500\n",
            "9/9 [==============================] - 0s 48ms/step - loss: 1.6887e-04 - val_loss: 1.3458e-04\n",
            "Epoch 383/500\n",
            "9/9 [==============================] - 0s 48ms/step - loss: 1.5683e-04 - val_loss: 1.8930e-04\n",
            "Epoch 384/500\n",
            "9/9 [==============================] - 0s 47ms/step - loss: 1.7225e-04 - val_loss: 1.2244e-04\n",
            "Epoch 385/500\n",
            "9/9 [==============================] - 0s 48ms/step - loss: 1.6054e-04 - val_loss: 2.2065e-04\n",
            "Epoch 386/500\n",
            "9/9 [==============================] - 0s 48ms/step - loss: 1.6439e-04 - val_loss: 1.3771e-04\n",
            "Epoch 387/500\n",
            "9/9 [==============================] - 0s 49ms/step - loss: 1.5951e-04 - val_loss: 1.4149e-04\n",
            "Epoch 388/500\n",
            "9/9 [==============================] - 0s 48ms/step - loss: 1.7867e-04 - val_loss: 1.5677e-04\n",
            "Epoch 389/500\n",
            "9/9 [==============================] - 0s 50ms/step - loss: 1.4875e-04 - val_loss: 1.2951e-04\n",
            "Epoch 390/500\n",
            "9/9 [==============================] - 0s 48ms/step - loss: 1.7651e-04 - val_loss: 1.5097e-04\n",
            "Epoch 391/500\n",
            "9/9 [==============================] - 0s 48ms/step - loss: 1.5350e-04 - val_loss: 1.2290e-04\n",
            "Epoch 392/500\n",
            "9/9 [==============================] - 0s 49ms/step - loss: 1.5714e-04 - val_loss: 1.5033e-04\n",
            "Epoch 393/500\n",
            "9/9 [==============================] - 0s 48ms/step - loss: 1.7857e-04 - val_loss: 1.3752e-04\n",
            "Epoch 394/500\n",
            "9/9 [==============================] - 0s 47ms/step - loss: 1.5347e-04 - val_loss: 1.2479e-04\n",
            "Epoch 395/500\n",
            "9/9 [==============================] - 0s 49ms/step - loss: 1.7682e-04 - val_loss: 1.5149e-04\n",
            "Epoch 396/500\n",
            "9/9 [==============================] - 0s 47ms/step - loss: 1.4013e-04 - val_loss: 1.1970e-04\n",
            "Epoch 397/500\n",
            "9/9 [==============================] - 0s 47ms/step - loss: 1.7413e-04 - val_loss: 1.6527e-04\n",
            "Epoch 398/500\n",
            "9/9 [==============================] - 0s 49ms/step - loss: 1.4808e-04 - val_loss: 1.3758e-04\n",
            "Epoch 399/500\n",
            "9/9 [==============================] - 0s 47ms/step - loss: 1.6197e-04 - val_loss: 1.7553e-04\n",
            "Epoch 400/500\n",
            "9/9 [==============================] - 0s 50ms/step - loss: 1.6785e-04 - val_loss: 1.2447e-04\n",
            "Epoch 401/500\n",
            "9/9 [==============================] - 0s 47ms/step - loss: 1.5873e-04 - val_loss: 1.2248e-04\n",
            "Epoch 402/500\n",
            "9/9 [==============================] - 0s 49ms/step - loss: 1.5950e-04 - val_loss: 1.1754e-04\n",
            "Epoch 403/500\n",
            "9/9 [==============================] - 0s 47ms/step - loss: 1.6701e-04 - val_loss: 1.5478e-04\n",
            "Epoch 404/500\n",
            "9/9 [==============================] - 0s 47ms/step - loss: 1.4010e-04 - val_loss: 1.5160e-04\n",
            "Epoch 405/500\n",
            "9/9 [==============================] - 0s 48ms/step - loss: 1.7880e-04 - val_loss: 1.4309e-04\n",
            "Epoch 406/500\n",
            "9/9 [==============================] - 0s 49ms/step - loss: 1.3779e-04 - val_loss: 1.0075e-04\n",
            "Epoch 407/500\n",
            "9/9 [==============================] - 0s 48ms/step - loss: 1.8871e-04 - val_loss: 1.2254e-04\n",
            "Epoch 408/500\n",
            "9/9 [==============================] - 0s 48ms/step - loss: 1.2757e-04 - val_loss: 1.2145e-04\n",
            "Epoch 409/500\n",
            "9/9 [==============================] - 0s 47ms/step - loss: 1.7483e-04 - val_loss: 1.0726e-04\n",
            "Epoch 410/500\n",
            "9/9 [==============================] - 0s 49ms/step - loss: 1.3351e-04 - val_loss: 2.0244e-04\n",
            "Epoch 411/500\n",
            "9/9 [==============================] - 0s 49ms/step - loss: 1.9116e-04 - val_loss: 9.6342e-05\n",
            "Epoch 412/500\n",
            "9/9 [==============================] - 0s 47ms/step - loss: 1.3598e-04 - val_loss: 1.9161e-04\n",
            "Epoch 413/500\n",
            "9/9 [==============================] - 0s 48ms/step - loss: 1.6020e-04 - val_loss: 1.3992e-04\n",
            "Epoch 414/500\n",
            "9/9 [==============================] - 0s 49ms/step - loss: 1.6298e-04 - val_loss: 1.2772e-04\n",
            "Epoch 415/500\n",
            "9/9 [==============================] - 0s 47ms/step - loss: 1.4517e-04 - val_loss: 1.3314e-04\n",
            "Epoch 416/500\n",
            "9/9 [==============================] - 0s 49ms/step - loss: 1.6908e-04 - val_loss: 1.0622e-04\n",
            "Epoch 417/500\n",
            "9/9 [==============================] - 0s 48ms/step - loss: 1.3907e-04 - val_loss: 1.6297e-04\n",
            "Epoch 418/500\n",
            "9/9 [==============================] - 0s 48ms/step - loss: 1.7567e-04 - val_loss: 1.1431e-04\n",
            "Epoch 419/500\n",
            "9/9 [==============================] - 0s 49ms/step - loss: 1.4608e-04 - val_loss: 1.4390e-04\n",
            "Epoch 420/500\n",
            "9/9 [==============================] - 0s 50ms/step - loss: 1.6335e-04 - val_loss: 1.3373e-04\n",
            "Epoch 421/500\n",
            "9/9 [==============================] - 0s 47ms/step - loss: 1.4351e-04 - val_loss: 1.7425e-04\n",
            "Epoch 422/500\n",
            "9/9 [==============================] - 0s 47ms/step - loss: 1.6250e-04 - val_loss: 1.2178e-04\n",
            "Epoch 423/500\n",
            "9/9 [==============================] - 0s 47ms/step - loss: 1.5007e-04 - val_loss: 1.4500e-04\n",
            "Epoch 424/500\n",
            "9/9 [==============================] - 0s 48ms/step - loss: 1.5772e-04 - val_loss: 1.3705e-04\n",
            "Epoch 425/500\n",
            "9/9 [==============================] - 0s 49ms/step - loss: 1.5199e-04 - val_loss: 1.2181e-04\n",
            "Epoch 426/500\n",
            "9/9 [==============================] - 0s 48ms/step - loss: 1.4632e-04 - val_loss: 1.2991e-04\n",
            "Epoch 427/500\n",
            "9/9 [==============================] - 0s 49ms/step - loss: 1.7264e-04 - val_loss: 1.1527e-04\n",
            "Epoch 428/500\n",
            "9/9 [==============================] - 0s 48ms/step - loss: 1.4357e-04 - val_loss: 1.7358e-04\n",
            "Epoch 429/500\n",
            "9/9 [==============================] - 0s 48ms/step - loss: 1.4955e-04 - val_loss: 1.2030e-04\n",
            "Epoch 430/500\n",
            "9/9 [==============================] - 0s 49ms/step - loss: 1.5746e-04 - val_loss: 1.5730e-04\n",
            "Epoch 431/500\n",
            "9/9 [==============================] - 0s 48ms/step - loss: 1.4055e-04 - val_loss: 9.7458e-05\n",
            "Epoch 432/500\n",
            "9/9 [==============================] - 0s 48ms/step - loss: 1.6178e-04 - val_loss: 1.1000e-04\n",
            "Epoch 433/500\n",
            "9/9 [==============================] - 0s 48ms/step - loss: 1.2984e-04 - val_loss: 2.0281e-04\n",
            "Epoch 434/500\n",
            "9/9 [==============================] - 0s 48ms/step - loss: 1.6851e-04 - val_loss: 9.6387e-05\n",
            "Epoch 435/500\n",
            "9/9 [==============================] - 0s 47ms/step - loss: 1.4369e-04 - val_loss: 1.6207e-04\n",
            "Epoch 436/500\n",
            "9/9 [==============================] - 0s 47ms/step - loss: 1.4934e-04 - val_loss: 1.2601e-04\n",
            "Epoch 437/500\n",
            "9/9 [==============================] - 0s 47ms/step - loss: 1.4956e-04 - val_loss: 1.1563e-04\n",
            "Epoch 438/500\n",
            "9/9 [==============================] - 0s 49ms/step - loss: 1.4333e-04 - val_loss: 1.4962e-04\n",
            "Epoch 439/500\n",
            "9/9 [==============================] - 0s 48ms/step - loss: 1.6154e-04 - val_loss: 1.0375e-04\n",
            "Epoch 440/500\n",
            "9/9 [==============================] - 0s 49ms/step - loss: 1.4046e-04 - val_loss: 1.5589e-04\n",
            "Epoch 441/500\n",
            "9/9 [==============================] - 0s 47ms/step - loss: 1.5639e-04 - val_loss: 1.1687e-04\n",
            "Epoch 442/500\n",
            "9/9 [==============================] - 0s 48ms/step - loss: 1.4277e-04 - val_loss: 1.3573e-04\n",
            "Epoch 443/500\n",
            "9/9 [==============================] - 0s 51ms/step - loss: 1.5350e-04 - val_loss: 1.2397e-04\n",
            "Epoch 444/500\n",
            "9/9 [==============================] - 0s 49ms/step - loss: 1.4828e-04 - val_loss: 1.1977e-04\n",
            "Epoch 445/500\n",
            "9/9 [==============================] - 0s 48ms/step - loss: 1.4145e-04 - val_loss: 1.4585e-04\n",
            "Epoch 446/500\n",
            "9/9 [==============================] - 0s 48ms/step - loss: 1.5774e-04 - val_loss: 1.1004e-04\n",
            "Epoch 447/500\n",
            "9/9 [==============================] - 0s 48ms/step - loss: 1.3758e-04 - val_loss: 1.1610e-04\n",
            "Epoch 448/500\n",
            "9/9 [==============================] - 0s 48ms/step - loss: 1.6495e-04 - val_loss: 1.0999e-04\n",
            "Epoch 449/500\n",
            "9/9 [==============================] - 0s 47ms/step - loss: 1.3720e-04 - val_loss: 1.2631e-04\n",
            "Epoch 450/500\n",
            "9/9 [==============================] - 0s 48ms/step - loss: 1.4950e-04 - val_loss: 1.1481e-04\n",
            "Epoch 451/500\n",
            "9/9 [==============================] - 0s 48ms/step - loss: 1.4921e-04 - val_loss: 1.2393e-04\n",
            "Epoch 452/500\n",
            "9/9 [==============================] - 0s 47ms/step - loss: 1.3246e-04 - val_loss: 1.1757e-04\n",
            "Epoch 453/500\n",
            "9/9 [==============================] - 0s 48ms/step - loss: 1.7329e-04 - val_loss: 1.1347e-04\n",
            "Epoch 454/500\n",
            "9/9 [==============================] - 0s 48ms/step - loss: 1.2525e-04 - val_loss: 1.2250e-04\n",
            "Epoch 455/500\n",
            "9/9 [==============================] - 0s 49ms/step - loss: 1.5775e-04 - val_loss: 1.1314e-04\n",
            "Epoch 456/500\n",
            "9/9 [==============================] - 0s 47ms/step - loss: 1.2764e-04 - val_loss: 1.4676e-04\n",
            "Epoch 457/500\n",
            "9/9 [==============================] - 0s 49ms/step - loss: 1.4765e-04 - val_loss: 1.3139e-04\n",
            "Epoch 458/500\n",
            "9/9 [==============================] - 0s 50ms/step - loss: 1.5190e-04 - val_loss: 1.2232e-04\n",
            "Epoch 459/500\n",
            "9/9 [==============================] - 0s 47ms/step - loss: 1.3342e-04 - val_loss: 1.4458e-04\n",
            "Epoch 460/500\n",
            "9/9 [==============================] - 0s 48ms/step - loss: 1.5547e-04 - val_loss: 1.1007e-04\n",
            "Epoch 461/500\n",
            "9/9 [==============================] - 0s 50ms/step - loss: 1.4125e-04 - val_loss: 1.2075e-04\n",
            "Epoch 462/500\n",
            "9/9 [==============================] - 0s 48ms/step - loss: 1.3904e-04 - val_loss: 1.3218e-04\n",
            "Epoch 463/500\n",
            "9/9 [==============================] - 0s 47ms/step - loss: 1.3916e-04 - val_loss: 1.4114e-04\n",
            "Epoch 464/500\n",
            "9/9 [==============================] - 0s 48ms/step - loss: 1.5821e-04 - val_loss: 1.3834e-04\n",
            "Epoch 465/500\n",
            "9/9 [==============================] - 0s 49ms/step - loss: 1.2896e-04 - val_loss: 1.3464e-04\n",
            "Epoch 466/500\n",
            "9/9 [==============================] - 0s 49ms/step - loss: 1.6273e-04 - val_loss: 1.0349e-04\n",
            "Epoch 467/500\n",
            "9/9 [==============================] - 0s 47ms/step - loss: 1.3303e-04 - val_loss: 1.1597e-04\n",
            "Epoch 468/500\n",
            "9/9 [==============================] - 0s 49ms/step - loss: 1.4675e-04 - val_loss: 1.2563e-04\n",
            "Epoch 469/500\n",
            "9/9 [==============================] - 0s 46ms/step - loss: 1.3899e-04 - val_loss: 1.2932e-04\n",
            "Epoch 470/500\n",
            "9/9 [==============================] - 0s 48ms/step - loss: 1.4232e-04 - val_loss: 1.2263e-04\n",
            "Epoch 471/500\n",
            "9/9 [==============================] - 0s 48ms/step - loss: 1.3924e-04 - val_loss: 1.3445e-04\n",
            "Epoch 472/500\n",
            "9/9 [==============================] - 0s 48ms/step - loss: 1.3541e-04 - val_loss: 1.5419e-04\n",
            "Epoch 473/500\n",
            "9/9 [==============================] - 0s 50ms/step - loss: 1.4534e-04 - val_loss: 1.2186e-04\n",
            "Epoch 474/500\n",
            "9/9 [==============================] - 0s 49ms/step - loss: 1.3742e-04 - val_loss: 1.2401e-04\n",
            "Epoch 475/500\n",
            "9/9 [==============================] - 0s 47ms/step - loss: 1.4773e-04 - val_loss: 1.1081e-04\n",
            "Epoch 476/500\n",
            "9/9 [==============================] - 0s 49ms/step - loss: 1.3305e-04 - val_loss: 1.3300e-04\n",
            "Epoch 477/500\n",
            "9/9 [==============================] - 0s 49ms/step - loss: 1.4256e-04 - val_loss: 1.0223e-04\n",
            "Epoch 478/500\n",
            "9/9 [==============================] - 0s 49ms/step - loss: 1.4130e-04 - val_loss: 1.3293e-04\n",
            "Epoch 479/500\n",
            "9/9 [==============================] - 0s 48ms/step - loss: 1.2585e-04 - val_loss: 1.2405e-04\n",
            "Epoch 480/500\n",
            "9/9 [==============================] - 0s 49ms/step - loss: 1.5341e-04 - val_loss: 1.1911e-04\n",
            "Epoch 481/500\n",
            "9/9 [==============================] - 0s 48ms/step - loss: 1.2219e-04 - val_loss: 1.2404e-04\n",
            "Epoch 482/500\n",
            "9/9 [==============================] - 0s 48ms/step - loss: 1.5711e-04 - val_loss: 8.6691e-05\n",
            "Epoch 483/500\n",
            "9/9 [==============================] - 0s 48ms/step - loss: 1.0797e-04 - val_loss: 2.1462e-04\n",
            "Epoch 484/500\n",
            "9/9 [==============================] - 0s 48ms/step - loss: 1.6509e-04 - val_loss: 8.9802e-05\n",
            "Epoch 485/500\n",
            "9/9 [==============================] - 0s 49ms/step - loss: 1.1947e-04 - val_loss: 2.0291e-04\n",
            "Epoch 486/500\n",
            "9/9 [==============================] - 0s 49ms/step - loss: 1.5118e-04 - val_loss: 9.2501e-05\n",
            "Epoch 487/500\n",
            "9/9 [==============================] - 0s 48ms/step - loss: 1.3238e-04 - val_loss: 1.2729e-04\n",
            "Epoch 488/500\n",
            "9/9 [==============================] - 0s 49ms/step - loss: 1.4105e-04 - val_loss: 1.1127e-04\n",
            "Epoch 489/500\n",
            "9/9 [==============================] - 0s 49ms/step - loss: 1.3452e-04 - val_loss: 9.9886e-05\n",
            "Epoch 490/500\n",
            "9/9 [==============================] - 0s 48ms/step - loss: 1.3831e-04 - val_loss: 1.5977e-04\n",
            "Epoch 491/500\n",
            "9/9 [==============================] - 0s 49ms/step - loss: 1.3006e-04 - val_loss: 8.6865e-05\n",
            "Epoch 492/500\n",
            "9/9 [==============================] - 0s 49ms/step - loss: 1.2952e-04 - val_loss: 1.8469e-04\n",
            "Epoch 493/500\n",
            "9/9 [==============================] - 0s 48ms/step - loss: 1.2930e-04 - val_loss: 9.5881e-05\n",
            "Epoch 494/500\n",
            "9/9 [==============================] - 0s 47ms/step - loss: 1.5024e-04 - val_loss: 1.2320e-04\n",
            "Epoch 495/500\n",
            "9/9 [==============================] - 0s 48ms/step - loss: 1.1737e-04 - val_loss: 1.2504e-04\n",
            "Epoch 496/500\n",
            "9/9 [==============================] - 0s 48ms/step - loss: 1.4639e-04 - val_loss: 1.0691e-04\n",
            "Epoch 497/500\n",
            "9/9 [==============================] - 0s 49ms/step - loss: 1.3720e-04 - val_loss: 1.3454e-04\n",
            "Epoch 498/500\n",
            "9/9 [==============================] - 0s 49ms/step - loss: 1.2758e-04 - val_loss: 1.1682e-04\n",
            "Epoch 499/500\n",
            "9/9 [==============================] - 0s 49ms/step - loss: 1.4550e-04 - val_loss: 1.0610e-04\n",
            "Epoch 500/500\n",
            "9/9 [==============================] - 0s 49ms/step - loss: 1.2319e-04 - val_loss: 1.4006e-04\n"
          ],
          "name": "stdout"
        },
        {
          "output_type": "execute_result",
          "data": {
            "text/plain": [
              "<tensorflow.python.keras.callbacks.History at 0x7f8c14ff5a58>"
            ]
          },
          "metadata": {
            "tags": []
          },
          "execution_count": 213
        }
      ]
    },
    {
      "cell_type": "markdown",
      "metadata": {
        "id": "DArrKMfnRIgT",
        "colab_type": "text"
      },
      "source": [
        "# Inference"
      ]
    },
    {
      "cell_type": "code",
      "metadata": {
        "id": "8to8v3JrRIgU",
        "colab_type": "code",
        "colab": {}
      },
      "source": [
        "# from our previous model - mapping encoder sequence to state vectors\n",
        "encoder_model = Model(encoder_inputs, encoder_states)\n",
        "\n",
        "# A modified version of the decoding stage that takes in predicted target inputs\n",
        "# and encoded state vectors, returning predicted target outputs and decoder state vectors.\n",
        "# We need to hbang onto these state vectors to run the next step of the inference loop.\n",
        "decoder_state_input_h = Input(shape=(latent_dim,))\n",
        "decoder_state_input_c = Input(shape=(latent_dim,))\n",
        "decoder_states_inputs = [decoder_state_input_h, decoder_state_input_c]\n",
        "\n",
        "decoder_outputs, state_h, state_c = decoder_lstm(decoder_inputs, initial_state=decoder_states_inputs)\n",
        "decoder_states = [state_h, state_c]\n",
        "\n",
        "decoder_outputs = decoder_dense(decoder_outputs)\n",
        "decoder_model = Model([decoder_inputs] + decoder_states_inputs,\n",
        "                      [decoder_outputs] + decoder_states)\n",
        "\n",
        "def decode_sequence(input_seq):\n",
        "    \n",
        "    # Encode the input as state vectors.\n",
        "    states_value = encoder_model.predict(input_seq)\n",
        "\n",
        "    # Generate empty target sequence of length 1.\n",
        "    target_seq = np.zeros((input_seq.shape[0], 1, 1))\n",
        "    \n",
        "    target_seq[:, 0, 0] = input_seq[:, -1, 0]\n",
        "\n",
        "    decoded_seq = np.zeros((input_seq.shape[0], pred_steps, 1))\n",
        "    \n",
        "    for i in range(pred_steps):\n",
        "        output, h, c = decoder_model.predict([target_seq] + states_value)\n",
        "        decoded_seq[:, i, 0] = output[:, 0, 0]\n",
        "\n",
        "        # Update the target sequence (of length 1).\n",
        "        target_seq = np.zeros((input_seq.shape[0], 1, 1))\n",
        "        target_seq[:, 0, 0] = output[:, 0, 0]\n",
        "\n",
        "        # Update states\n",
        "        states_value = [h, c]\n",
        "\n",
        "    return decoded_seq"
      ],
      "execution_count": 0,
      "outputs": []
    },
    {
      "cell_type": "code",
      "metadata": {
        "id": "Y8DF29AyRIgX",
        "colab_type": "code",
        "colab": {}
      },
      "source": [
        "def plot_samples(X, Y, rows, cols):\n",
        "    fig, axarr = plt.subplots(rows, cols, figsize=(15, 15))\n",
        "    pred = decode_sequence(X)\n",
        "\n",
        "    for i in range(rows):\n",
        "        for j in range(cols):\n",
        "            idx = np.random.randint(0, X.shape[0])\n",
        "\n",
        "            axarr[i, j].plot(np.arange(lag_size), X[idx,:, 0])\n",
        "            axarr[i, j].plot(np.arange(lag_size, lag_size+pred_steps), Y[idx], label='original')\n",
        "            axarr[i, j].plot(np.arange(lag_size, lag_size+pred_steps), pred[idx].ravel(), label='prediction')\n",
        "\n",
        "    plt.legend()"
      ],
      "execution_count": 0,
      "outputs": []
    },
    {
      "cell_type": "markdown",
      "metadata": {
        "id": "AXPDrenLAPXD",
        "colab_type": "text"
      },
      "source": [
        "Now let's evaluate our model."
      ]
    },
    {
      "cell_type": "code",
      "metadata": {
        "id": "nXcy00vuRIga",
        "colab_type": "code",
        "colab": {
          "base_uri": "https://localhost:8080/",
          "height": 882
        },
        "outputId": "fb071dac-7e39-42ca-de17-c73e22e0d52c"
      },
      "source": [
        "print('some random test samples')\n",
        "plot_samples(x_test, y_test, 3, 3)"
      ],
      "execution_count": 216,
      "outputs": [
        {
          "output_type": "stream",
          "text": [
            "some random test samples\n"
          ],
          "name": "stdout"
        },
        {
          "output_type": "display_data",
          "data": {
            "image/png": "[encoded data removed]",
            "text/plain": [
              "<Figure size 1080x1080 with 9 Axes>"
            ]
          },
          "metadata": {
            "tags": [],
            "needs_background": "light"
          }
        }
      ]
    },
    {
      "cell_type": "code",
      "metadata": {
        "id": "EeJLa9EiTe8H",
        "colab_type": "code",
        "colab": {
          "base_uri": "https://localhost:8080/",
          "height": 880
        },
        "outputId": "1c1a4d39-c209-4d06-ec8f-be24c2de78e3"
      },
      "source": [
        "print('some random train samples')\n",
        "plot_samples(x_train, y_train, 3, 3)"
      ],
      "execution_count": 218,
      "outputs": [
        {
          "output_type": "stream",
          "text": [
            "some random train samples\n"
          ],
          "name": "stdout"
        },
        {
          "output_type": "display_data",
          "data": {
            "image/png": "[encoded data removed]",
            "text/plain": [
              "<Figure size 1080x1080 with 9 Axes>"
            ]
          },
          "metadata": {
            "tags": [],
            "needs_background": "light"
          }
        }
      ]
    },
    {
      "cell_type": "markdown",
      "metadata": {
        "id": "RA1H6slaAaES",
        "colab_type": "text"
      },
      "source": [
        "here we evaluate encoder module"
      ]
    },
    {
      "cell_type": "code",
      "metadata": {
        "id": "x9stqF5_RIgd",
        "colab_type": "code",
        "colab": {}
      },
      "source": [
        "encoded = encoder_model.predict(x_test)[0]"
      ],
      "execution_count": 0,
      "outputs": []
    },
    {
      "cell_type": "markdown",
      "metadata": {
        "id": "rAyWy-QdA6Md",
        "colab_type": "text"
      },
      "source": [
        "calculate cosine distance between encoded representations of test samples.\n"
      ]
    },
    {
      "cell_type": "code",
      "metadata": {
        "id": "Z5Q_A6_LRIgg",
        "colab_type": "code",
        "colab": {}
      },
      "source": [
        "from scipy.spatial.distance import pdist, squareform\n",
        "dist = squareform(pdist(encoded, metric='cosine'))"
      ],
      "execution_count": 0,
      "outputs": []
    },
    {
      "cell_type": "code",
      "metadata": {
        "id": "vKf-D9ewRIgm",
        "colab_type": "code",
        "colab": {}
      },
      "source": [
        "argsrt = np.argsort(dist.flatten())"
      ],
      "execution_count": 0,
      "outputs": []
    },
    {
      "cell_type": "code",
      "metadata": {
        "id": "IatbE9ugRIgq",
        "colab_type": "code",
        "colab": {
          "base_uri": "https://localhost:8080/",
          "height": 34
        },
        "outputId": "bba800f1-e5e9-4467-b476-cbce3c1167fd"
      },
      "source": [
        "argmx = np.unravel_index(argsrt[9500], dist.shape)    ## first elements of dist is 0, skip that\n",
        "argmx"
      ],
      "execution_count": 276,
      "outputs": [
        {
          "output_type": "execute_result",
          "data": {
            "text/plain": [
              "(7298, 8574)"
            ]
          },
          "metadata": {
            "tags": []
          },
          "execution_count": 276
        }
      ]
    },
    {
      "cell_type": "code",
      "metadata": {
        "id": "n6Dks7HARIgv",
        "colab_type": "code",
        "colab": {
          "base_uri": "https://localhost:8080/",
          "height": 34
        },
        "outputId": "65050aa7-8436-40bc-b1f1-1eae5871185a"
      },
      "source": [
        "dist[argmx[0], argmx[1]]"
      ],
      "execution_count": 277,
      "outputs": [
        {
          "output_type": "execute_result",
          "data": {
            "text/plain": [
              "1.3882628475236913e-05"
            ]
          },
          "metadata": {
            "tags": []
          },
          "execution_count": 277
        }
      ]
    },
    {
      "cell_type": "markdown",
      "metadata": {
        "id": "ILDdX38MBr6y",
        "colab_type": "text"
      },
      "source": [
        "as below figure suggests, encoder module perform a good job at extracting representation. these two have high similarity between the representations as well as the original data"
      ]
    },
    {
      "cell_type": "code",
      "metadata": {
        "id": "jFG8eXNJRIgy",
        "colab_type": "code",
        "colab": {
          "base_uri": "https://localhost:8080/",
          "height": 337
        },
        "outputId": "581b5c32-7cd7-4e77-c6f7-09120078924a"
      },
      "source": [
        "fig, axarr = plt.subplots(1, 2, figsize=(10, 5))\n",
        "idx = argmx[0]\n",
        "pred = decode_sequence(x_test[idx].reshape((1, lag_size, 1)))\n",
        "\n",
        "axarr[0].plot(np.arange(lag_size), x_test[idx,:, 0])\n",
        "axarr[0].plot(np.arange(lag_size, lag_size+pred_steps), y_test[idx], label='original')\n",
        "axarr[0].plot(np.arange(lag_size, lag_size+pred_steps), pred.ravel(), label='prediction')\n",
        "\n",
        "idx = argmx[1]\n",
        "pred = decode_sequence(x_test[ idx].reshape((1, lag_size, 1)))\n",
        "\n",
        "axarr[1].plot(np.arange(lag_size), x_test[idx,:, 0])\n",
        "axarr[1].plot(np.arange(lag_size, lag_size+pred_steps), y_test[idx], label='original')\n",
        "axarr[1].plot(np.arange(lag_size, lag_size+pred_steps), pred.ravel(), label='prediction')"
      ],
      "execution_count": 278,
      "outputs": [
        {
          "output_type": "execute_result",
          "data": {
            "text/plain": [
              "[<matplotlib.lines.Line2D at 0x7f8c153c47b8>]"
            ]
          },
          "metadata": {
            "tags": []
          },
          "execution_count": 278
        },
        {
          "output_type": "display_data",
          "data": {
            "image/png": "[encoded data removed]",
            "text/plain": [
              "<Figure size 720x360 with 2 Axes>"
            ]
          },
          "metadata": {
            "tags": [],
            "needs_background": "light"
          }
        }
      ]
    },
    {
      "cell_type": "markdown",
      "metadata": {
        "id": "Gi3VpW69Cx6y",
        "colab_type": "text"
      },
      "source": [
        "now we should consider numerical metrics to evaluate the model"
      ]
    },
    {
      "cell_type": "code",
      "metadata": {
        "id": "M1-HrCtqRIg4",
        "colab_type": "code",
        "colab": {
          "base_uri": "https://localhost:8080/",
          "height": 34
        },
        "outputId": "ccb39493-aefa-40c5-83d9-00e3b5084825"
      },
      "source": [
        "def eval_model(X, Y):\n",
        "  pred = decode_sequence(X)\n",
        "  return np.mean(tf.keras.losses.mse(pred, Y), axis=1)\n",
        "\n",
        "mse = eval_model(x_test, y_test)\n",
        "np.mean(mse)"
      ],
      "execution_count": 246,
      "outputs": [
        {
          "output_type": "execute_result",
          "data": {
            "text/plain": [
              "0.00031018091169835"
            ]
          },
          "metadata": {
            "tags": []
          },
          "execution_count": 246
        }
      ]
    },
    {
      "cell_type": "markdown",
      "metadata": {
        "id": "DVArJOPRDCd0",
        "colab_type": "text"
      },
      "source": [
        "there are some perfect predictions on test set. (change the idx)"
      ]
    },
    {
      "cell_type": "code",
      "metadata": {
        "id": "Bu2xpq8GtZ7k",
        "colab_type": "code",
        "colab": {
          "base_uri": "https://localhost:8080/",
          "height": 299
        },
        "outputId": "59b5e1f9-e3fc-4694-c8ca-205c62af7641"
      },
      "source": [
        "idx = np.argsort(mse)[10]\n",
        "print(mse[idx])\n",
        "pred = decode_sequence(x_test[idx].reshape((1, lag_size, 1)))\n",
        "\n",
        "\n",
        "plt.plot(np.arange(lag_size), x_test[idx,:, 0])\n",
        "plt.plot(np.arange(lag_size, lag_size+pred_steps), y_test[idx], label='original')\n",
        "plt.plot(np.arange(lag_size, lag_size+pred_steps), pred.ravel(), label='prediction')"
      ],
      "execution_count": 279,
      "outputs": [
        {
          "output_type": "stream",
          "text": [
            "7.175604040115512e-07\n"
          ],
          "name": "stdout"
        },
        {
          "output_type": "execute_result",
          "data": {
            "text/plain": [
              "[<matplotlib.lines.Line2D at 0x7f8c13388630>]"
            ]
          },
          "metadata": {
            "tags": []
          },
          "execution_count": 279
        },
        {
          "output_type": "display_data",
          "data": {
            "image/png": "[encoded data removed]",
            "text/plain": [
              "<Figure size 432x288 with 1 Axes>"
            ]
          },
          "metadata": {
            "tags": [],
            "needs_background": "light"
          }
        }
      ]
    }
  ]
}